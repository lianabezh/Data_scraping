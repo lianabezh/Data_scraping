{
 "cells": [
  {
   "cell_type": "code",
   "execution_count": 1,
   "metadata": {},
   "outputs": [],
   "source": [
    "import requests \n",
    "from scrapy.http import TextResponse\n",
    "import time"
   ]
  },
  {
   "cell_type": "code",
   "execution_count": 2,
   "metadata": {},
   "outputs": [],
   "source": [
    "url = \"https://staff.am/en/jobs\""
   ]
  },
  {
   "cell_type": "code",
   "execution_count": 3,
   "metadata": {},
   "outputs": [],
   "source": [
    "page = requests.get(url)"
   ]
  },
  {
   "cell_type": "code",
   "execution_count": 4,
   "metadata": {},
   "outputs": [
    {
     "name": "stdout",
     "output_type": "stream",
     "text": [
      "200\n"
     ]
    }
   ],
   "source": [
    "print(page.status_code)"
   ]
  },
  {
   "cell_type": "code",
   "execution_count": 5,
   "metadata": {},
   "outputs": [],
   "source": [
    "response = TextResponse(url= page.url,body=page.text,encoding =\"utf-8\")"
   ]
  },
  {
   "cell_type": "code",
   "execution_count": 6,
   "metadata": {},
   "outputs": [],
   "source": [
    "def jobs_scraper(url):\n",
    "    page = requests.get(url)\n",
    "    response = TextResponse(url= page.url,body=page.text,encoding =\"utf-8\")\n",
    "    jobs = response.xpath('//p[@class=\"font_bold\"]/text()').extract()\n",
    "    return jobs\n",
    "\n",
    "# response.xpath('//a[@class=\"job-inner job-item-title\"]/text()').extract()\n",
    "# <div class=\"job-inner job-item-title\">\n",
    "# <p class=\"font_bold\">Graphic designer </p>\n",
    "# <p>Ameriabank CJSC</p>\n",
    "# </div>"
   ]
  },
  {
   "cell_type": "code",
   "execution_count": null,
   "metadata": {},
   "outputs": [],
   "source": []
  },
  {
   "cell_type": "code",
   "execution_count": 8,
   "metadata": {
    "collapsed": true
   },
   "outputs": [
    {
     "name": "stdout",
     "output_type": "stream",
     "text": [
      "['Restaurant barman', 'Senior Program Manager (SPM)', 'Customer Support Agent –English/Russian Languages (Mixed shifts)', 'Customer Support Agent – French Language (Mixed shift)', 'Customer Support Agent – German Language (Mixed shifts)', 'Administrative assistant', 'Translator (Chinese Language)', 'Experienced Accountant', 'Ժողովրդավարական ինստիտուտների բաժնի պետ', 'Պետական, հասարակական անվտանգության բաժնի պետ', ' Mid/Senior Front-End Developer', 'Community Manager/Support Specialist (with knowledge of Hindi & English)', '3D մոդելավորող', 'Sr. Java Software Engineer', 'QA Automation Engineer (mobile)', 'QA Automation Engineer (back-end)', 'Senior Specialist, Business Regulatory and Advisory Center', 'Senior ASIC Digital Design Engineer / 20712BR', 'Senior Software Engineer / 19915BR', 'Mid-level A&amp;MS Circuit Design Engineer / 18756BR', 'Mid-level AMS Circuit Design Engineer / 20958BR', 'Senior ASIC Physical Design Engineer / 20241BR', 'Node.js, React.js Developer', 'DevOps Engineer', 'Regional Operations Manager', 'Բուժքույր', 'Օբյեկտ մենեջեր ', 'Կենսաքիմիկ / կենսաֆիզիկ', 'Call Center specialist', 'Մրցույթ` ՀՀ Կոտայքի մարզի «Սևաբերդի միջնակարգ դպրոց» ՊՈԱԿ-ի տնօրենի պաշտոնը զբաղեցնելու համար', 'Վարկային մասնագետ', 'Մրցույթ` ՀՀ Շիրակի մարզի «Գյումրու Վահան Թեքեյանի անվան թիվ 2 ավագ դպրոց» ՊՈԱԿ-ի տնօրենի պաշտոնը զբաղեցնելու համար', 'Մրցույթ` ՀՀ Արմավիրի մարզի «Արշալույսի Ս. Գրիգորյանի անվան միջնակարգ դպրոց» ՊՈԱԿ-ի տնօրենի պաշտոնը զբաղեցնելու համար', 'Ոսկերիչ գնահատող', 'Internal Auditor', 'UI/UX Designer', 'Office Manager', 'Customer support specialist', 'Գնումների մասնագետ', '\\u200bUser Support Hero (evening shift)', 'iOS Developer', 'Financial Reporting Officer', 'Stocker', 'Airline Ticketing Agent', 'Hotel Booking Agent', 'PHP Developer', 'Risk, Internal Control and Compliance Manager, FINCA Armenia', 'ASO Associate', 'Internal Communications Specialist', 'PHP developer', 'Հաշվետար-օպերատոր', 'Windows UWP Developer', 'Network and Operation System Administrator', 'Marketing Intern', 'Senior Java Script Developer ', 'Office manager ', 'Marketing Specialist', 'Agriculture Policy Monitoring and Evaluation Capacity Building Project Terms of Reference for National Project Secretary ', 'ՀՀ Արմավիրի մարզի «Աղավնատան միջնակարգ դպրոց» ՊՈԱԿ-ի տնօրենի թափուր պաշտոնի մրցույթ\\xa0', 'ServiceDesk Specialist', 'Agriculture Policy Monitoring and Evaluation Capacity Building Project Terms of Reference for National Project Manager', 'Incident Management Specialist ', ' Sales and Service Specialist', 'Որակի կառավարման և գործընկերների աջակցության մենեջեր', 'Mid Level iOS Developer', 'Financial Manager or CFO', 'Video Surveillance Specialist (mixed shifts)', 'Dispatcher ', 'Junior Android Developer', 'Contact Center Agent', 'Mechanic', 'Manual QA Specialist', 'Mid PHP Developer', 'Advanced IOS Camp', 'Java Developer', 'Market Researcher', 'Հաշվապահ', 'Ընտանիքի,կանանց և երեխաների հիմնահարցերի վարչության երեխաների հիմնահարցերի բաժնի առաջատար մասնագետ', 'Հաշվարկների գծով մասնագետ', 'Talent Acquisition Specialist', 'Senior Accountant ', 'Deutschsprachigen Customer Service Spezialist / Kundendienstmitarbeiter ', 'Internal auditor', 'Managing Editor', 'Programme Manager for \"Modern Parliament for Modern Armenia\" Project', 'Financial Analyst', 'Arabic support Manager', 'UI/UX Designer', 'Electronics engineer', 'Տեսահսկման օպերատոր', 'ՍԱՌՆԱՐԱՆՆԵՐԻ ՄԱՍՆԱԳԵՏ', 'Recruiter', 'Վարորդ', 'ՀՀ Շիրակի մարզի «Գյումրու թիվ 18 միջնակարգ դպրոց» ՊՈԱԿ-ի տնօրենի թափուր պաշտոնի մրցույթ', 'Engineer ', 'Senior Customer Care Specialist', 'Senior AMS Layout Design Engineer / 19999BR', 'Junior AMS Circuit Design Engineer / 19905BR', 'Lead Platform Engineer', 'English Language Specialist', 'Senior R&D Manager / 20645BR', 'Senior AMS Layout Design Engineer / 20854BR', 'Senior R&D Engineer / 20919BR', 'Mid-level AMS Circuit Design Engineer / 21062BR', 'Senior R&D Engineer/21475BR', 'Mid-level AMS Circuit Design Engineer/21305BR', 'AMS Circuit Design Engineer, Staff/21273BR', 'SEO Specialist', 'R&D Manager / 21077BR', 'PHP Developer', 'Senior IT Operations Engineer ', 'Back Office Specialist', 'Digital Marketing Specialist', 'Sr. ReactJS Developer', 'Senior QA automation/manual Engineer/', 'ՀՀ Շիրակի մարզի «Փոքրաշենի միջնակարգ դպրոց» ՊՈԱԿ-ի տնօրենի թափուր պաշտոնի մրցույթ', 'Senior DevOps Engineer ', 'Sales and service specialist, Armavir', 'Network administrator', 'System Administrator', 'SMM Manager', 'Գանձապահ-ադմինիստրատոր', 'Data Scientist', 'Computer Vision Engineer', 'Machine Learning Engineer\\t', 'Senior Web Developer – ReactJS', 'Call Center Agent – German Language (Mixed shifts)', 'NLP engineer\\t', 'ՀՀ Արմավիրի մարզի «Հովտամեջի միջնակարգ դպրոց» ՊՈԱԿ-ի տնօրենի թափուր պաշտոնի մրցույթ', 'Big Data Engineer', 'Վարորդ', 'COO', 'Contact Center Hero', 'ՎԱՃԱՌՔԻ ՄԵՆԵՋԵՐ', 'Marketing Specialist', 'Accountant ', 'Information Security Specialist', 'Customer Service Representative', 'Sr. UI/UX Designer', 'Sr. Technical Product Manager', 'Sr. Data Engineer', 'Sr. JavaScript Frontend Developer', 'Web Frontend Developer', 'Sr. Java Developer', 'Senior Platform Engineer', '.Net Architect', 'Jewelry Orders Manager', 'Customer Service Specialist', 'Rental Agent', 'Speech Therapy Services', 'Video Editor', 'Senior QA Engineer', 'Sales manager ', 'English language teaching services', 'Senior .NET Engineer (Tech. Lead)', 'Тeam leader', 'Գլխավոր հաշվապահ', 'Armenian-English Video Translator', 'Senior Web Developer', 'Payment Services Agent', 'Copywriter ', 'Պահեստապետ', 'Manual QA Engineer', 'Call Center Specialist', 'Labourer', 'Executive Assistant', 'ՀՀ Կոտայքի մարզի «Կամարիսի միջնակարգ դպրոց» ՊՈԱԿ-ի տնօրենի թափուր պաշտոնի մրցույթ', 'WordPress Developer', 'Export Assistant', 'Mid Front-End Developer', 'Վաճառքի մասնագետ', '«Ֆիզիկական կրթություն և անվտանգ կենսագործունեություն» չափորոշիչների և ծրագրերի խորհրդատու', '«Արվեստ» ոլորտի առարկայական չափորոշիչների և ծրագրերի խորհրդատու', ' «Տեխնոլոգիա» ոլորտի առարկայական չափորոշիչների և ծրագրերի խորհրդատու', '«Հայոց լեզու, գրականություն» առարկայական չափորոշիչների և ծրագրերի խորհրդատու', '«Օտար լեզուներ» առարկայական չափորոշիչների և ծրագրերի խորհրդատու', '«Օտար լեզուներ» առարկայական չափորոշիչների և ծրագրերի խորհրդատու', '«Հասարակություն, հասարակական գիտություններ» ոլորտի առարկայական չափորոշիչների և ծրագրերի խորհրդատու', 'SEO Specialist', 'Pharmacist-seller', 'React Native Developer', 'Օշարակի պատրաստման և ջրի մշակման տեղամասերի օպերատոր', 'VIP Account Manager', 'Senior Database Engineer', 'Inbound Communication Team Specialist, Contact Center', 'UX/UI Designer', 'Systems analyst', 'QA engineer', 'NodeJS Back-End Developer', 'Executive Assistant', 'Business Development Manager', 'National consultancy services in the areas of violence against women, domestic violence and gender equality in Armenia', 'ՄԱՐԴԿԱՅԻՆ ՌԵՍՈՒՐՍՆԵՐԻ ՄԵՆԵՋԵՐ', 'English Speaking Sales Representative', 'IT Technician', 'Arabic Speaking Sales Representative', 'Platform Infrastructure Engineer', 'Marketing specialist', 'Full Stack Developer JS+PHP', 'Software Engineer: Algorithms and Data Science', 'Back-End Software Engineer', 'LO of Masis branch', 'Customer Support Specialist', ' Social Media Marketing Strategist', 'IT Recruiter', 'DevOps (system engineer)', 'Database Administrator', 'Ֆինանսական վերլուծաբան', 'Առաքիչ', 'Ֆիրմային խանութի վաճառողուհի', 'Procurement Specialist', 'Preseller', 'Senior Back-End Engineer, ML Team', 'Operations Manager', 'Accountant', 'Իրավաբանական \\xa0վարչության \\xa0գլխավոր մասնագետ\\xa0(18-35.2-Մ2-1)', 'Իրավաբանական \\xa0վարչության օրենսդրության բաժնի պետ\\xa0(18-35.2-Ղ4-2)', 'Հաշվետար-օպերատոր ', 'Corporate affairs and Communication Department trainee', 'Sales Consultant', 'Engineer constructor', 'Project Manager ', 'Accounts Payable Accountant', 'Economic Analyst ', 'Software Configuration Engineer', 'Graphic Designer', 'Sales manager', 'Վաճառքների վերլուծաբան', 'ՀՀ Շիրակի մարզի ԿԳՍՄ նախարարության «Գյումրու թիվ 2 ավագ դպրոց» ՊՈԱԿ–ի տնօրենի թափուր պաշտոնի մրցույթ', 'ԴՐԱՄԱՇՆՈՐՀԻ ՀԱՏԿԱՑՄԱՆ ՄՐՑՈՒՅԹԻ ՄԱՍԻՆ ՀԱՅՏԱՐԱՐՈՒԹՅՈՒՆ', 'SMM Specialist', 'Head of Staff (Technical Unit)', 'HTML/CSS Markup Specialist', 'React.js Developer', 'Recruiter (Maternity Cover)', 'Հաճախորդների հետ հաղորդակցման կենտրոնի օպերոտոր', 'Սրահի մենեջեր', 'ՀՀ Արարատի մարզի «Դվինի միջնակարգ դպրոց» ՊՈԱԿ-ի տնօրենի թափուր պաշտոնի մրցույթ', 'ՀՀ Շիրակի մարզի «Անի կայարանի միջնակարգ դպրոց» ՊՈԱԿ-ի տնօրենի թափուր պաշտոնի մրցույթ', 'iOS developer', 'Administrative Clerk', 'Product Result Analyst', 'Corporate sales trainer', 'Quality Control Supervisor', 'Social Media Marketing Specialist', 'Ruby developer ', 'QA Automation Engineer', 'PR and Communications Specialist', 'Web Developer', 'NPA Management Specialist', 'Job Planning and Review Specialist', 'Administrative Assistant', 'Graphic designer', 'Dispatcher/ Freight Broker', 'Բանկոմատների և տերմինալների սպասարկման գլխավոր մասնագետ', 'Գործադիր տնօրենի տեղակալ', 'QA Manager', 'Առաքման թիմի ղեկավար', 'Junior Laravel developer', 'Դիսպետչեր', 'Call Center Specialist', 'Performance Engineer', 'Software Engineer (Automation Team)', 'Sr. Front End Software Engineer', 'Quality Engineer', 'Специалист Call-центра', 'Doctor Expert', 'HR specialist, Employment relations and Benefits team', 'Customer Support Associate (Spanish, English)', 'Driver', 'QA Automation Lead (backend)', '.NET Developer', 'QA Engineer', 'Lead CRM Web Portal Developer', 'Applications Developer', 'PHP Developer', 'Senior .Net Developer', 'Spanish support manager-2nd shift', 'Գյուղատնտեսական սարքավորումների վաճառքի փորձնակ/վճարվող', 'Senior Laravel developer', 'Պահեստի բանվոր', 'HR Manager', 'Product Copywriter', 'Graphic Designer ', 'Social Media Marketing Specialist', 'Digital Marketing and Social Media Manager', 'Marketing Specialist', ' Marketing Manager', 'Restaurant hostess ', 'Վաճառող-գանձապահ', 'Maintenance Supervisor', 'SMM Specialist', 'Գանձապահ ', 'Data Scientist', 'Օպերատոր-օգնական', 'Շինարարական աշխատանքների ղեկավար', 'Social Media Manager', 'Sales manager(D2D)', 'Security department officer', 'Junior Procurement Specialist', 'Junior Social Media Content Creator', 'Head of Backend', 'Վաճառող խորհրդատու', 'Software Engineer (React.js)', 'Software Engineer Angular(JS/TS)', 'Software Engineer (.Net oriented)', 'Software Engineer iOS Developer', 'Software Engineer Android developer', 'Full stack web developer ( Senior )', 'B2B sales specialist', 'C# .Net Developer', 'Dispatcher', 'Junior accountant/Operator 1C', 'Summer Training and Internship Program for SAS Programmers', 'Administrative Assistant', 'Խորհրդատու վաճառող', 'Վաճառքի թիմի սուպերվայզեր', 'Senior Software Engineer', 'Manager of commercial department ', 'C2 Level German required: 3 years apprenticeship in Germany: Auszubildender', 'Content and SMM Manager', 'Treasury Accountant', 'Administrative Assistant', 'Graphic Designer', 'Համակարգչային օպերատոր /1c ծրագրով աշխատանք', 'React JS oriented Front End Developer', 'ԳԼԽԱՎՈՐ/ԱՎԱԳ ՀԱՇՎԱՊԱՀ', 'Senior Javascript Developer', 'Ծխախոտի արտադրության տեխնոլոգ', 'Product Owner', '\\xa0ՀՀ Արմավիրի մարզի «Արաքսի\\xa0միջնակարգ դպրոց» ՊՈԱԿ-ի տնօրենի թափուր պաշտոնի մրցույթ', 'Բժշկական ներկայացուցիչ', 'Քիմիկ-անալիտիկ', 'Software Developer', 'Հերթոփոխային հսկիչ/գիշերային գրաֆիկ', 'IT User Support Specialist ', 'Արտադրամասի հերթափոխի պատասխանատու', 'Հեռախոսազանգերի սպասարկման կենտրոնի աշխատակից', 'Guide', 'English Speaking Game Presenter ', 'Mid/Senior C# developer', 'Mid/Senior JavaScript developer ', 'Database Administrator', 'ՇՈՒԿԱՅԻ ԶԱՐԳԱՑՄԱՆ ՄԱՍՆԱԳԵՏ', 'IOS Developer', 'Խնդրահարույց վարկերի հետ աշխատանքի վարչության մասնագետ (Hard Collection)', 'Խնդրահարույց վարկերի հետ աշխատանքի վարչության մասնագետ (middle collection)', 'ՀՀ Շիրակի մարզի «Գյումրու թիվ 6 հիմնական դպրոց» ՊՈԱԿ-ի տնօրենի թափուր պաշտոնի մրցույթ', 'QA Engineers', 'Sales Consultant', ' Digital Marketing Specialist', 'ԽՈՐՀՐԴԱՏՈՒ-ՎԱՃԱՌՈՂՈՒՀԻ', 'Technical Support Specialist', 'Sales Analyst/ Operator', 'Warehouse Assistant', 'PHP Mid/Senior Developer', ' Mid Level Full Stack PHP Developer', 'Call Centre agent', 'Web developer - Intern', 'Junior Angular developer', 'Mobile Developers', 'Sr. Software Engineer, Front End', 'Ներքին վերահսկողության բաժնի աշխատակիցներ', 'ACCOUNTANT', ' Senior JS Developer', 'Technical Lead', 'Կրթաթոշակի մրցույթ Արհեստների կրթություն Արցախի «Եզնիկ Մոզյան արհեստագործական ուսումնարանում»', 'German Specialist', 'Import-manager', 'Ֆրանսերեն լեզվի մասնագետ', 'Corporate Services Department Specialist', 'Sales consultant ', 'Receptionist', 'Management Trainee in Human Resources', 'Engineering Manager', 'Customer Support Associate (German, English)', 'ՀՀ Արարատի մարզի «Զանգակատան միջնակարգ դպրոց» ՊՈԱԿ-ի տնօրենի թափուր պաշտոնի մրցույթ', 'Operations Manager', 'Офис менеджер в федеральный сервисный центр РСС', 'Accountant', 'Accountant', 'Senior Level ReactJS Developer', 'ՀՀ Արարատի մարզի «Լուսաշողի միջնակարգ դպրոց» ՊՈԱԿ-ի տնօրենի թափուր պաշտոնի մրցույթ', 'ՀՀ Արարատի մարզի «Այգավանի միջնակարգ դպրոց» ՊՈԱԿ-ի տնօրենի թափուր պաշտոնի մրցույթ', 'Live Casino Trainer', 'Systems Engineer', 'IT Project/Operations Coordinator', 'Systems Administrator', 'Project Manager', 'Business Centre Agent', 'Junior - Mid PHP Developer', 'Corporate sales specialist', 'Loan Sales Specialist', 'System and network administrator', '.Net Developer', 'Sales consultant', 'PHP Developer', 'Sales Manager', 'Operations Support Specialist', 'Affiliate Manager', 'UI/UX Designer', 'German | Italian | Spanish Speaking Customer Support Agent', 'Mid Level C# .NET Software Engineer', 'Senior NodeJS Developer', 'INTERNSHIP: Graphic Designer', 'Android Developer', 'React js developer ', 'Node js developer', 'Գինեգործ, կոնյակագործ, պահածոյագործ և հյութերի տեխնոլոգ', 'Արվեստի և նկարչության մասնագետ', 'Data Engineer', 'Team Lead (React Native/ React)', 'Manual QA Engineer', 'Partner manager', 'Mid Level Android developer', 'Loan Officers in Yerevan Branches', 'Loan Officer in Ararat Branch', 'Client Adviser in Artik Branch', 'Customer Support Associate (Russian, English)', 'Հաշվետար հաշվապահ', 'IT Project Manager', 'SMM Specialist', 'Loan Officer', 'ՀՀ Շիրակի մարզի «Հայկավանի միջնակարգ դպրոց» ՊՈԱԿ-ի տնօրենի թափուր պաշտոնի մրցույթ', 'Logistics Coordinator/Dispatcher', 'Call Center Operator', 'Teller in Stepanavan Branch', 'Lead Java Engineer', 'Receptionist', 'Chief marketing Officer', 'HR Manager', 'Administrative Assistant', 'Data Scientist', 'Angular 2+ Developer', 'Marketing Coordinator ', 'Hindi support manager', 'Java Developer', '«Երևանի թիվ 175 միջնակարգ դպրոց» ՊՈԱԿ-ի տնօրենի թափուր պաշտոնի մրցույթ', 'Translator (Arabic Language)', 'IT Business Analyst ', 'Senior Front-End Developer', 'Mid-level Java Developer', 'Software Quality Assurance Engineer', 'LEADING SYSTEM ADMINISTRATOR', 'Accountant', 'Seller Consultant', 'Հեծանվային Տեխնիկ', 'Լոգիստիկայի բաժնի ղեկավար', 'Waiter/Waitress with foreign language Knowledge', 'Sales Manager', 'Sales manager ', 'Receptionist ', 'Գանձապահ', 'Հաշվետար-օպերատոր', 'Մեծածախ շուկայի և մարզային դիստրիբյուտորային մենեջերների պատասխանատու', 'Sales-engineer', 'Սուպերմարկետի տնօրեն', 'Computer operator', 'Experienced .NET Developer', 'Android Developer', 'ISMS Manager and Information Security Specialist', 'Sales Lead', 'ՀՀ Գեղարքունիքի մարզի «Լիճքի միջնակարգ դպրոց» ՊՈԱԿ-ի տնօրենի թափուր պաշտոնի մրցույթ', 'ՀՀ Արագածոտնի մարզի «Վերին Սասնաշենի հիմնական դպրոց» ՊՈԱԿ-ի տնօրենի թափուր պաշտոնի մրցույթ', 'Business Development Assistant ', 'QA Engineer', 'Senior engineer, Kapan', 'Target marketing analyst', 'Lawyer with IT knowledge', 'Front-end Developer Internship (3-6 month)', 'Back-end Developer Internship (3-6 month)', 'Senior Java Engineer ', 'Front-end Software Engineer II', 'Sr. Back-end Software Engineer', 'Accountant/bookkeeper', 'Sales Specialist', 'Graphic Designer', 'Automation QA Engineer', 'Գանձապահ-վաճառողուհի', 'Manual QA Engineer', 'PHP\\\\Yii2\\\\JS senior developer', 'Ֆինանսական խորհրդատու/ ք. Հրազդան', 'Միկրո հաճախորդների խորհրդատու/ ք. Երևան, ք. Գյումրի', 'Բիզնես խորհրդատու/ք. Երևան, ք. Արտաշատ, ք. Գյումրի', 'Fullstack Web Developer', 'Business Analyst ', 'Software Engineer', 'DeLonghi seller promoter', 'Client Adviser in Berd Branch', 'Loan Officer in Stepanavan Branch ', 'Security Shift Head', 'Junior Android Developer', 'Graphic Designer', 'Mid Javascript Developer', 'Customer Care and Sales Specialist', 'Software Developer', 'Web Developer', 'Որակի վերահսկման պատասխանատու', 'Junior Finance Specialist', 'Կոմերցիայի մասնագետ', 'Գնումների մասնագետ / տենդերների մասնագետ', 'Գլխավոր տնօրենի օգնական / գործավարուհի', 'Sales consultant', 'Sales Agent', 'Սրահի մենեջերի օգնական', 'Mid/Senior Angular Developer', 'System Administrator', 'Accountant', 'German Speaking Customer Service Representative (m/w) in Yerevan', 'Administrative manager', 'Բանվոր/ առաքիչի օգնական', 'Product Owner', 'Operator', 'Hostess ', 'Marketing Manager', 'Procurement specialist', 'Digital Marketing Specialist, Experienced in SEO', 'SMM Specialist', 'PL/SQL Developer ', 'Անիմատոր-խաղավար (տղա)', 'Operator-cashier', 'Content Writer', 'Loan officer', 'Sales consultant', 'Marketing Project Manager', 'Android developer', 'Technical Project Manager', 'Measuring Engineer', 'Housekeeping Manager', 'Customer Care Specialist/Night Shift\\xa0', 'Manual QA Engineer', 'Python Developer', 'Ֆինանսական ստորաբաժանման աշխատակից', 'Front End Developer', 'sales manager', '.NET Developer', 'DevOps Engineer ', 'Front-end Developer', 'Manual QA Specialist', 'Sales consultant', 'Auto parts retail manager', 'QA Engineers (Junior, Mid, Senior)', 'Փաստաբան', 'Learning Coach in Yerevan', 'UI/UX Designer', 'Sales Director', 'Front-end Developer', 'Թվային մարքեթինգի մասնագետ', 'SMM Specialist', 'uFleet Product Manager', 'Copywriter/ Advertising Specialist', 'Office Manager', 'Junior Android Developer', 'Mid/Senior JavaScript developer', 'Customer care', 'Bartender / waiter', 'Սպասարկման կենտրոնի մանսագետ', '.Net Developer', 'React.js Developer', 'ՀՀ Սյունիքի մարզի «Գորիսի թիվ 3 հիմնական դպրոց» ՊՈԱԿ-ի տնօրենի թափուր պաշտոնի մրցույթ', 'ՀՀ Արագածոտնի մարզի «Նոր Արթիկի միջնակարգ դպրոց» ՊՈԱԿ-ի տնօրենի թափուր պաշտոնի մրցույթ', 'Senior Product Manager, CRM', 'System architect', 'Data Architect', 'VoIP Engineer', 'Senior C++ Developer', 'Production operator', 'Technical Support Specialist', 'Վաճառքի և սպասարկման մասնագետ', 'HR assistant', 'Manual QA engineer', 'Automated QA Engineer', '.Net Developer (full stack)', 'QA Intern', 'HR Specialist', 'Javascript developer', 'React/Native Developer', 'Tecnical specialist', 'Tour Manager for English speaking markets', 'Receptionist / Administrator', 'Mid Level Full Stack Developer ', 'Online support service', 'Android Developer', 'Senior Specialist of Sales Department', 'Buying Department Assistant ', 'Senior Technical Writer ', 'Receptionist', 'ՀՀ Շիրակի մարզի «Գյումրու թիվ 5 հիմնական դպրոց» ՊՈԱԿ-ի տնօրենի թափուր պաշտոնի մրցույթ', 'ՀՀ Լոռու մարզի «Ծաղկաբերի միջնակարգ դպրոց» ՊՈԱԿ-ի տնօրենի թափուր պաշտոնի մրցույթ', 'Security engineer', 'Economist ', 'Project Manager Assistant', 'Specialist of problematic assets', 'Project finance analyst', 'Node.js developer', 'Administrative Assistant', 'Այգեգործ', 'Marketing manager', 'Mid-level .NET Developer', 'Ինժեներ', 'Վաճառքի գծով մենեջեր պահեստում', 'Senior JavaScript Developer', 'Senior ReactJS Developer', 'Front-End Developer', 'Front-end Developer', 'QA Engineer', 'Java Engineer', 'Procurement Specialist', 'DevOps Engineer', 'Արտադրամասի վարպետ', 'Big Data Engineer', 'Data Visualization Engineer', 'Data Scientist', 'Software Engineer in Test', 'DevOps Engineer with Docker Experience', 'Digital marketing specialist', 'Անվտանգության աշխատակից/իգական սեռի/Չարբախ', \"Brand manager for L'Oréal Paris\", 'Senior Software Engineer', 'Designer', 'ՀՀ Արագածոտնի մարզի «Կարբիի միջնակարգ դպրոց» ՊՈԱԿ-ի տնօրենի թափուր պաշտոնի մրցույթ', '«Երևանի թիվ 168 հիմնական դպրոց» ՊՈԱԿ-ի տնօրենի թափուր պաշտոնի մրցույթ', '«Երևանի թիվ 16 հատուկ դպրոց» ՊՈԱԿ-ի գործադիր մարմնի` տնօրենի պաշտոնը զբաղեցնելու համար', 'Sports Trading Team Leader', 'WEB programmer', 'Risk Officer', 'Head of Business Operations', 'Sportsbook Officer', 'Trading Operations Officer', 'VP of Talent & Culture', 'Software Developer', 'Accountant', '1C:ERP System Administrator', 'Chief Accountant', 'Middle Web Developer', 'JUNIOR ACCOUNTANT', 'Commercial Excellence Manager', 'Manual QA Tester', 'Head of Account Opening in Armenia', 'Developer’s Team Lead', 'Node JS Developer', 'Brand/Import manager']\n"
     ]
    }
   ],
   "source": [
    "all_jobs  = []\n",
    "i = 1 \n",
    "while True :\n",
    "    urls = \"https://staff.am/en/jobs?page={}&per-page=50/\".format(i)\n",
    "    current_jobs = jobs_scraper(urls)\n",
    "    if len(current_jobs) == 0:\n",
    "        break\n",
    "    else :\n",
    "        all_jobs.extend(current_jobs)\n",
    "        i +=1\n",
    "        time.sleep(2)\n",
    "            \n",
    "print(all_jobs)"
   ]
  },
  {
   "cell_type": "code",
   "execution_count": 9,
   "metadata": {},
   "outputs": [
    {
     "data": {
      "text/plain": [
       "642"
      ]
     },
     "execution_count": 9,
     "metadata": {},
     "output_type": "execute_result"
    }
   ],
   "source": [
    "len(all_jobs)"
   ]
  },
  {
   "cell_type": "code",
   "execution_count": 10,
   "metadata": {},
   "outputs": [],
   "source": [
    "companies = response.xpath('//div[@class=\"job-inner job-item-title\"]/p/text()').extract()"
   ]
  },
  {
   "cell_type": "code",
   "execution_count": 11,
   "metadata": {
    "collapsed": true
   },
   "outputs": [
    {
     "name": "stdout",
     "output_type": "stream",
     "text": [
      "SEASONS\n",
      "International Republican Institute\n",
      "BetConstruct\n",
      "BetConstruct\n",
      "BetConstruct\n",
      "Galaxy Group of Companies\n",
      "BetConstruct\n",
      "2mindS\n",
      "ՀՀ Վարչապետի աշխատակազմի Անվտանգության խորհրդի գրասենյակ\n",
      "ՀՀ Վարչապետի աշխատակազմի Անվտանգության խորհրդի գրասենյակ\n",
      "IYC technologies\n",
      "All.me LLC\n",
      "GAT Cutting LLC\n",
      "Workfront Armenia\n",
      "All.me LLC\n",
      "All.me LLC\n",
      "Ameriabank CJSC\n",
      "Synopsys Armenia \n",
      "Synopsys Armenia \n",
      "Synopsys Armenia \n",
      "Synopsys Armenia \n",
      "Synopsys Armenia \n",
      "TIDEPOOL LABS\n",
      "TIDEPOOL LABS\n",
      "SEF International UCO \n",
      "Ավանտա նորարարական բժշկության կենտրոն\n",
      "Թոփ Շինտեխ ՍՊԸ\n",
      "Agrotech LLC\n",
      "ID Bank CJSC\n",
      "ՀՀ կրթության, գիտության, մշակույթի և սպորտի նախարարություն\n",
      "SEF International UCO \n",
      "ՀՀ կրթության, գիտության, մշակույթի և սպորտի նախարարություն\n",
      "ՀՀ կրթության, գիտության, մշակույթի և սպորտի նախարարություն\n",
      "SEF International UCO \n",
      "Byblos Bank Armenia cjsc\n",
      "Simonian Educational Foundation\n",
      "Ararat Cognac Factory\n",
      "SHANT TV\n",
      "BetConstruct\n",
      "Simonian Educational Foundation\n",
      "SFL\n",
      "Byblos Bank Armenia cjsc\n",
      "Carrefour Armenia\n",
      "inlOBBY\n",
      "inlOBBY\n",
      "BetConstruct\n",
      "FINCA UCO CJSC\n",
      "PicsArt\n",
      "PicsArt\n",
      "STDev\n"
     ]
    }
   ],
   "source": [
    "for i in range (len(companies)):\n",
    "    if i %2 ==1 :\n",
    "        print(companies[i])"
   ]
  },
  {
   "cell_type": "code",
   "execution_count": 12,
   "metadata": {},
   "outputs": [],
   "source": [
    "jobs = response.xpath(\"//div[@class='job-inner job-item-title']/p[1]/text()\").extract()\n",
    "companies  = response.xpath(\"//div[@class='job-inner job-item-title']/p[2]/text()\").extract()"
   ]
  },
  {
   "cell_type": "code",
   "execution_count": 13,
   "metadata": {
    "collapsed": true
   },
   "outputs": [
    {
     "name": "stdout",
     "output_type": "stream",
     "text": [
      "['Restaurant barman', 'Senior Program Manager (SPM)', 'Customer Support Agent –English/Russian Languages (Mixed shifts)', 'Customer Support Agent – French Language (Mixed shift)', 'Customer Support Agent – German Language (Mixed shifts)', 'Administrative assistant', 'Translator (Chinese Language)', 'Experienced Accountant', 'Ժողովրդավարական ինստիտուտների բաժնի պետ', 'Պետական, հասարակական անվտանգության բաժնի պետ', ' Mid/Senior Front-End Developer', 'Community Manager/Support Specialist (with knowledge of Hindi & English)', '3D մոդելավորող', 'Sr. Java Software Engineer', 'QA Automation Engineer (mobile)', 'QA Automation Engineer (back-end)', 'Senior Specialist, Business Regulatory and Advisory Center', 'Senior ASIC Digital Design Engineer / 20712BR', 'Senior Software Engineer / 19915BR', 'Mid-level A&amp;MS Circuit Design Engineer / 18756BR', 'Mid-level AMS Circuit Design Engineer / 20958BR', 'Senior ASIC Physical Design Engineer / 20241BR', 'Node.js, React.js Developer', 'DevOps Engineer', 'Regional Operations Manager', 'Բուժքույր', 'Օբյեկտ մենեջեր ', 'Կենսաքիմիկ / կենսաֆիզիկ', 'Call Center specialist', 'Մրցույթ` ՀՀ Կոտայքի մարզի «Սևաբերդի միջնակարգ դպրոց» ՊՈԱԿ-ի տնօրենի պաշտոնը զբաղեցնելու համար', 'Վարկային մասնագետ', 'Մրցույթ` ՀՀ Շիրակի մարզի «Գյումրու Վահան Թեքեյանի անվան թիվ 2 ավագ դպրոց» ՊՈԱԿ-ի տնօրենի պաշտոնը զբաղեցնելու համար', 'Մրցույթ` ՀՀ Արմավիրի մարզի «Արշալույսի Ս. Գրիգորյանի անվան միջնակարգ դպրոց» ՊՈԱԿ-ի տնօրենի պաշտոնը զբաղեցնելու համար', 'Ոսկերիչ գնահատող', 'Internal Auditor', 'UI/UX Designer', 'Office Manager', 'Customer support specialist', 'Գնումների մասնագետ', '\\u200bUser Support Hero (evening shift)', 'iOS Developer', 'Financial Reporting Officer', 'Stocker', 'Airline Ticketing Agent', 'Hotel Booking Agent', 'PHP Developer', 'Risk, Internal Control and Compliance Manager, FINCA Armenia', 'ASO Associate', 'Internal Communications Specialist', 'PHP developer']\n"
     ]
    }
   ],
   "source": [
    "print(jobs)"
   ]
  },
  {
   "cell_type": "code",
   "execution_count": 14,
   "metadata": {
    "collapsed": true
   },
   "outputs": [
    {
     "name": "stdout",
     "output_type": "stream",
     "text": [
      "['SEASONS', 'International Republican Institute', 'BetConstruct', 'BetConstruct', 'BetConstruct', 'Galaxy Group of Companies', 'BetConstruct', '2mindS', 'ՀՀ Վարչապետի աշխատակազմի Անվտանգության խորհրդի գրասենյակ', 'ՀՀ Վարչապետի աշխատակազմի Անվտանգության խորհրդի գրասենյակ', 'IYC technologies', 'All.me LLC', 'GAT Cutting LLC', 'Workfront Armenia', 'All.me LLC', 'All.me LLC', 'Ameriabank CJSC', 'Synopsys Armenia ', 'Synopsys Armenia ', 'Synopsys Armenia ', 'Synopsys Armenia ', 'Synopsys Armenia ', 'TIDEPOOL LABS', 'TIDEPOOL LABS', 'SEF International UCO ', 'Ավանտա նորարարական բժշկության կենտրոն', 'Թոփ Շինտեխ ՍՊԸ', 'Agrotech LLC', 'ID Bank CJSC', 'ՀՀ կրթության, գիտության, մշակույթի և սպորտի նախարարություն', 'SEF International UCO ', 'ՀՀ կրթության, գիտության, մշակույթի և սպորտի նախարարություն', 'ՀՀ կրթության, գիտության, մշակույթի և սպորտի նախարարություն', 'SEF International UCO ', 'Byblos Bank Armenia cjsc', 'Simonian Educational Foundation', 'Ararat Cognac Factory', 'SHANT TV', 'BetConstruct', 'Simonian Educational Foundation', 'SFL', 'Byblos Bank Armenia cjsc', 'Carrefour Armenia', 'inlOBBY', 'inlOBBY', 'BetConstruct', 'FINCA UCO CJSC', 'PicsArt', 'PicsArt', 'STDev']\n"
     ]
    }
   ],
   "source": [
    "print(companies)"
   ]
  },
  {
   "cell_type": "code",
   "execution_count": null,
   "metadata": {},
   "outputs": [],
   "source": [
    "def author_scraper(url):\n",
    "    response = requests.get(url)\n",
    "    page = TextResponse(url=response.url,body = response.text,encoding='utf-8')\n",
    "    authors =response.xpath('//p[@class=\"font_bold\"]/text()').extract()  \n",
    "    return authors"
   ]
  }
 ],
 "metadata": {
  "kernelspec": {
   "display_name": "Python 3",
   "language": "python",
   "name": "python3"
  },
  "language_info": {
   "codemirror_mode": {
    "name": "ipython",
    "version": 3
   },
   "file_extension": ".py",
   "mimetype": "text/x-python",
   "name": "python",
   "nbconvert_exporter": "python",
   "pygments_lexer": "ipython3",
   "version": "3.7.3"
  }
 },
 "nbformat": 4,
 "nbformat_minor": 2
}
