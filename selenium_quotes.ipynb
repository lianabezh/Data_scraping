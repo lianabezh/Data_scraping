{
 "cells": [
  {
   "cell_type": "code",
   "execution_count": 56,
   "metadata": {},
   "outputs": [],
   "source": [
    "from selenium import webdriver"
   ]
  },
  {
   "cell_type": "code",
   "execution_count": 57,
   "metadata": {},
   "outputs": [],
   "source": [
    "import time"
   ]
  },
  {
   "cell_type": "code",
   "execution_count": 58,
   "metadata": {},
   "outputs": [],
   "source": [
    "from selenium.webdriver.common.keys import  Keys"
   ]
  },
  {
   "cell_type": "code",
   "execution_count": 59,
   "metadata": {},
   "outputs": [],
   "source": [
    "import requests \n",
    "from scrapy.http import TextResponse"
   ]
  },
  {
   "cell_type": "code",
   "execution_count": 60,
   "metadata": {},
   "outputs": [],
   "source": [
    "url= \"http://quotes.toscrape.com/scroll\""
   ]
  },
  {
   "cell_type": "code",
   "execution_count": 61,
   "metadata": {},
   "outputs": [],
   "source": [
    "browser = webdriver.Chrome()"
   ]
  },
  {
   "cell_type": "code",
   "execution_count": 62,
   "metadata": {},
   "outputs": [],
   "source": [
    "browser.get(url)"
   ]
  },
  {
   "cell_type": "code",
   "execution_count": 63,
   "metadata": {},
   "outputs": [
    {
     "data": {
      "text/plain": [
       "'<html lang=\"en\"><head>\\n\\t<meta charset=\"UTF-8\">\\n\\t<title>Quotes to Scrape</title>\\n    <link rel=\"stylesheet\" href=\"/static/bootstrap.min.css\">\\n    <link rel=\"stylesheet\" href=\"/static/main.css\">\\n</head>\\n<body>\\n    <div class=\"container\">\\n        <div class=\"row header-box\">\\n            <div class=\"col-md-8\">\\n                <h1>\\n                    <a href=\"/\" style=\"text-decoration: none\">Quotes to Scrape</a>\\n                </h1>\\n            </div>\\n            <div class=\"col-md-4\">\\n                <p>\\n                \\n                    <a href=\"/login\">Login</a>\\n                \\n                </p>\\n            </div>\\n        </div>\\n    \\n<div class=\"row\">\\n    <div class=\"col-md-8\">\\n        <div class=\"quotes\"><div class=\"quote\"><span class=\"text\">“The world as we have created it is a process of our thinking. It cannot be changed without changing our thinking.”</span><span>by <small class=\"author\">Albert Einstein</small></span><div class=\"tags\">Tags: <a class=\"tag\">change</a> <a class=\"tag\">deep-thoughts</a> <a class=\"tag\">thinking</a> <a class=\"tag\">world</a></div></div><div class=\"quote\"><span class=\"text\">“It is our choices, Harry, that show what we truly are, far more than our abilities.”</span><span>by <small class=\"author\">J.K. Rowling</small></span><div class=\"tags\">Tags: <a class=\"tag\">abilities</a> <a class=\"tag\">choices</a></div></div><div class=\"quote\"><span class=\"text\">“There are only two ways to live your life. One is as though nothing is a miracle. The other is as though everything is a miracle.”</span><span>by <small class=\"author\">Albert Einstein</small></span><div class=\"tags\">Tags: <a class=\"tag\">inspirational</a> <a class=\"tag\">life</a> <a class=\"tag\">live</a> <a class=\"tag\">miracle</a> <a class=\"tag\">miracles</a></div></div><div class=\"quote\"><span class=\"text\">“The person, be it gentleman or lady, who has not pleasure in a good novel, must be intolerably stupid.”</span><span>by <small class=\"author\">Jane Austen</small></span><div class=\"tags\">Tags: <a class=\"tag\">aliteracy</a> <a class=\"tag\">books</a> <a class=\"tag\">classic</a> <a class=\"tag\">humor</a></div></div><div class=\"quote\"><span class=\"text\">“Imperfection is beauty, madness is genius and it\\'s better to be absolutely ridiculous than absolutely boring.”</span><span>by <small class=\"author\">Marilyn Monroe</small></span><div class=\"tags\">Tags: <a class=\"tag\">be-yourself</a> <a class=\"tag\">inspirational</a></div></div><div class=\"quote\"><span class=\"text\">“Try not to become a man of success. Rather become a man of value.”</span><span>by <small class=\"author\">Albert Einstein</small></span><div class=\"tags\">Tags: <a class=\"tag\">adulthood</a> <a class=\"tag\">success</a> <a class=\"tag\">value</a></div></div><div class=\"quote\"><span class=\"text\">“It is better to be hated for what you are than to be loved for what you are not.”</span><span>by <small class=\"author\">André Gide</small></span><div class=\"tags\">Tags: <a class=\"tag\">life</a> <a class=\"tag\">love</a></div></div><div class=\"quote\"><span class=\"text\">“I have not failed. I\\'ve just found 10,000 ways that won\\'t work.”</span><span>by <small class=\"author\">Thomas A. Edison</small></span><div class=\"tags\">Tags: <a class=\"tag\">edison</a> <a class=\"tag\">failure</a> <a class=\"tag\">inspirational</a> <a class=\"tag\">paraphrased</a></div></div><div class=\"quote\"><span class=\"text\">“A woman is like a tea bag; you never know how strong it is until it\\'s in hot water.”</span><span>by <small class=\"author\">Eleanor Roosevelt</small></span><div class=\"tags\">Tags: <a class=\"tag\">misattributed-eleanor-roosevelt</a></div></div><div class=\"quote\"><span class=\"text\">“A day without sunshine is like, you know, night.”</span><span>by <small class=\"author\">Steve Martin</small></span><div class=\"tags\">Tags: <a class=\"tag\">humor</a> <a class=\"tag\">obvious</a> <a class=\"tag\">simile</a></div></div></div>\\n    </div>\\n</div>\\n<div id=\"loading\" style=\"background-color: rgb(238, 238, 204); display: none;\"><h5>Loading...</h5></div>\\n<script src=\"/static/jquery.js\"></script>\\n<script>\\n    $(function(){\\n        var page = 1, tag = null, hasNextPage = true;\\n        function appendQuotes(quotes) {\\n            var $quotes = $(\\'.quotes\\');\\n            var html = $.map(quotes, function(d){\\n                var tags = $.map(d[\\'tags\\'], function(t) {\\n                    return \"<a class=\\'tag\\'>\" + t + \"</a>\";\\n                }).join(\" \");\\n                return \"<div class=\\'quote\\'><span class=\\'text\\'>\" + d[\\'text\\'] + \"</span><span>by <small class=\\'author\\'>\" + d[\\'author\\'][\\'name\\'] + \"</small></span><div class=\\'tags\\'>Tags: \" + tags + \"</div></div>\";\\n            });\\n\\n            $quotes.append(html);\\n        }\\n\\n        function updatePage(page) {\\n            $(\\'#loading\\').show(\\'fast\\');\\n            $.get(\\'/api/quotes\\', {page: page}).done(function(data) {\\n                appendQuotes(data.quotes);\\n                hasNextPage = data.has_next;\\n                $(\\'#loading\\').hide(\\'fast\\');\\n            });\\n        }\\n        updatePage(page);\\n        $(window).on(\\'scroll\\', function(){\\n            var scrollTop = $(window).scrollTop();\\n            var heightDiff = $(document).height() - $(window).height();\\n            if (hasNextPage && Math.abs(scrollTop - heightDiff) <= 1){\\n                page += 1;\\n                console.log(\\'scrolling to page: \\' + page);\\n                updatePage(page);\\n            }\\n        });\\n    });\\n</script>\\n\\n    </div>\\n    <footer class=\"footer\">\\n        <div class=\"container\">\\n            <p class=\"text-muted\">\\n                Quotes by: <a href=\"https://www.goodreads.com/quotes\">GoodReads.com</a>\\n            </p>\\n            <p class=\"copyright\">\\n                Made with <span class=\"sh-red\">❤</span> by <a href=\"https://scrapinghub.com\">Scrapinghub</a>\\n            </p>\\n        </div>\\n    </footer>\\n\\n</body></html>'"
      ]
     },
     "execution_count": 63,
     "metadata": {},
     "output_type": "execute_result"
    }
   ],
   "source": [
    "browser.page_source"
   ]
  },
  {
   "cell_type": "code",
   "execution_count": 64,
   "metadata": {},
   "outputs": [],
   "source": [
    "#response = TextResponse(url=url,body= page, encoding=\"utf-8\")"
   ]
  },
  {
   "cell_type": "code",
   "execution_count": 65,
   "metadata": {},
   "outputs": [],
   "source": [
    "#browser.find_element(\"div\").send_keys(Keys.END)"
   ]
  },
  {
   "cell_type": "code",
   "execution_count": 66,
   "metadata": {},
   "outputs": [],
   "source": [
    "some_element = browser.find_element_by_tag_name(\"html\")"
   ]
  },
  {
   "cell_type": "code",
   "execution_count": 67,
   "metadata": {},
   "outputs": [],
   "source": [
    "some_element.send_keys(Keys.END)"
   ]
  },
  {
   "cell_type": "code",
   "execution_count": 68,
   "metadata": {},
   "outputs": [
    {
     "name": "stdout",
     "output_type": "stream",
     "text": [
      "5896\n",
      "10874\n",
      "10874\n",
      "13886\n",
      "13886\n",
      "16645\n",
      "16645\n",
      "19385\n",
      "19385\n",
      "22318\n",
      "22318\n",
      "25834\n",
      "25834\n",
      "29103\n",
      "29103\n",
      "32564\n",
      "32564\n",
      "35326\n",
      "35326\n",
      "35326\n"
     ]
    }
   ],
   "source": [
    "browser = webdriver.Chrome()\n",
    "browser.get(url)\n",
    "while True:\n",
    "    old_length = len(browser.page_source)\n",
    "    print(old_length)\n",
    "    some_element = browser.find_element_by_tag_name(\"html\")\n",
    "    some_element.send_keys(Keys.END)\n",
    "    time.sleep(2)\n",
    "    new_length = len(browser.page_source)\n",
    "    print(new_length)\n",
    "    if new_length == old_length :\n",
    "        break\n"
   ]
  },
  {
   "cell_type": "code",
   "execution_count": 69,
   "metadata": {},
   "outputs": [
    {
     "data": {
      "text/plain": [
       "35326"
      ]
     },
     "execution_count": 69,
     "metadata": {},
     "output_type": "execute_result"
    }
   ],
   "source": [
    "len(browser.page_source)"
   ]
  },
  {
   "cell_type": "code",
   "execution_count": null,
   "metadata": {},
   "outputs": [],
   "source": []
  }
 ],
 "metadata": {
  "kernelspec": {
   "display_name": "Python 3",
   "language": "python",
   "name": "python3"
  },
  "language_info": {
   "codemirror_mode": {
    "name": "ipython",
    "version": 3
   },
   "file_extension": ".py",
   "mimetype": "text/x-python",
   "name": "python",
   "nbconvert_exporter": "python",
   "pygments_lexer": "ipython3",
   "version": "3.7.3"
  }
 },
 "nbformat": 4,
 "nbformat_minor": 2
}
