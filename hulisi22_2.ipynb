{
 "cells": [
  {
   "cell_type": "code",
   "execution_count": 1,
   "metadata": {},
   "outputs": [],
   "source": [
    "import re \n",
    "import time\n",
    "import requests\n",
    "import numpy as np\n",
    "import pandas as pd\n",
    "from textblob import TextBlob , Word\n",
    "from scrapy.http import TextResponse\n",
    "import nltk\n",
    "from nltk.corpus import stopwords , wordnet\n",
    "from nltk.tokenize import sent_tokenize , word_tokenize\n",
    "from nltk.stem import PorterStemmer, WordNetLemmatizer\n"
   ]
  },
  {
   "cell_type": "code",
   "execution_count": 35,
   "metadata": {},
   "outputs": [],
   "source": [
    "from selenium import webdriver\n",
    "import selenium.webdriver.common.keys as Keys "
   ]
  },
  {
   "cell_type": "code",
   "execution_count": 4,
   "metadata": {},
   "outputs": [],
   "source": [
    "data=pd.read_csv(\"data.csv\")"
   ]
  },
  {
   "cell_type": "code",
   "execution_count": 5,
   "metadata": {
    "collapsed": true
   },
   "outputs": [
    {
     "data": {
      "text/html": [
       "<div>\n",
       "<style scoped>\n",
       "    .dataframe tbody tr th:only-of-type {\n",
       "        vertical-align: middle;\n",
       "    }\n",
       "\n",
       "    .dataframe tbody tr th {\n",
       "        vertical-align: top;\n",
       "    }\n",
       "\n",
       "    .dataframe thead th {\n",
       "        text-align: right;\n",
       "    }\n",
       "</style>\n",
       "<table border=\"1\" class=\"dataframe\">\n",
       "  <thead>\n",
       "    <tr style=\"text-align: right;\">\n",
       "      <th></th>\n",
       "      <th>quotes</th>\n",
       "      <th>authors</th>\n",
       "    </tr>\n",
       "  </thead>\n",
       "  <tbody>\n",
       "    <tr>\n",
       "      <th>0</th>\n",
       "      <td>“The world as we have created it is a process ...</td>\n",
       "      <td>Albert Einstein</td>\n",
       "    </tr>\n",
       "    <tr>\n",
       "      <th>1</th>\n",
       "      <td>“It is our choices, Harry, that show what we t...</td>\n",
       "      <td>J.K. Rowling</td>\n",
       "    </tr>\n",
       "    <tr>\n",
       "      <th>2</th>\n",
       "      <td>“There are only two ways to live your life. On...</td>\n",
       "      <td>Albert Einstein</td>\n",
       "    </tr>\n",
       "    <tr>\n",
       "      <th>3</th>\n",
       "      <td>“The person, be it gentleman or lady, who has ...</td>\n",
       "      <td>Jane Austen</td>\n",
       "    </tr>\n",
       "    <tr>\n",
       "      <th>4</th>\n",
       "      <td>“Imperfection is beauty, madness is genius and...</td>\n",
       "      <td>Marilyn Monroe</td>\n",
       "    </tr>\n",
       "  </tbody>\n",
       "</table>\n",
       "</div>"
      ],
      "text/plain": [
       "                                              quotes          authors\n",
       "0  “The world as we have created it is a process ...  Albert Einstein\n",
       "1  “It is our choices, Harry, that show what we t...     J.K. Rowling\n",
       "2  “There are only two ways to live your life. On...  Albert Einstein\n",
       "3  “The person, be it gentleman or lady, who has ...      Jane Austen\n",
       "4  “Imperfection is beauty, madness is genius and...   Marilyn Monroe"
      ]
     },
     "execution_count": 5,
     "metadata": {},
     "output_type": "execute_result"
    }
   ],
   "source": [
    "data.head()"
   ]
  },
  {
   "cell_type": "code",
   "execution_count": 6,
   "metadata": {},
   "outputs": [],
   "source": [
    "text = data[\"quotes\"][0]"
   ]
  },
  {
   "cell_type": "code",
   "execution_count": 7,
   "metadata": {},
   "outputs": [],
   "source": [
    "text  = TextBlob(text)"
   ]
  },
  {
   "cell_type": "code",
   "execution_count": 8,
   "metadata": {},
   "outputs": [
    {
     "data": {
      "text/plain": [
       "0.0"
      ]
     },
     "execution_count": 8,
     "metadata": {},
     "output_type": "execute_result"
    }
   ],
   "source": [
    "text.sentiment[0]"
   ]
  },
  {
   "cell_type": "code",
   "execution_count": 9,
   "metadata": {},
   "outputs": [],
   "source": [
    "def get_sentiment(text):\n",
    "    text = TextBlob(text)\n",
    "    return text.sentiment"
   ]
  },
  {
   "cell_type": "code",
   "execution_count": 12,
   "metadata": {},
   "outputs": [],
   "source": [
    "sw = stopwords.words(\"english\")"
   ]
  },
  {
   "cell_type": "code",
   "execution_count": 11,
   "metadata": {
    "collapsed": true
   },
   "outputs": [
    {
     "data": {
      "text/plain": [
       "0                                      (0.0, 0.0)\n",
       "1                                     (0.3, 0.75)\n",
       "2                  (0.0037878787878787845, 0.625)\n",
       "3                     (-0.04999999999999999, 0.8)\n",
       "4      (-0.27777777777777773, 0.8333333333333334)\n",
       "5                                      (0.3, 0.0)\n",
       "6       (0.09999999999999998, 0.6666666666666666)\n",
       "7                                     (0.25, 0.3)\n",
       "8        (0.3416666666666667, 0.7916666666666667)\n",
       "9                                      (0.0, 0.0)\n",
       "10      (0.18003968253968256, 0.4663888888888889)\n",
       "11                                   (0.5, 0.475)\n",
       "12                                     (0.1, 0.2)\n",
       "13      (0.30178571428571427, 0.5071428571428571)\n",
       "14                                     (0.0, 1.0)\n",
       "15                                     (0.0, 0.0)\n",
       "16                     (0.15, 0.2714285714285714)\n",
       "17                   (-0.04999999999999999, 0.75)\n",
       "18       (0.7666666666666666, 0.7333333333333334)\n",
       "19                                (-0.125, 0.375)\n",
       "20       (0.29687500000000006, 0.585267857142857)\n",
       "21                     (0.09999999999999998, 0.6)\n",
       "22                                     (0.5, 0.6)\n",
       "23                                     (0.0, 0.0)\n",
       "24      (-0.3222222222222222, 0.8111111111111112)\n",
       "25                   (0.22499999999999998, 0.525)\n",
       "26                                    (0.65, 0.7)\n",
       "27                  (-0.22348484848484848, 0.575)\n",
       "28                                     (0.0, 0.0)\n",
       "29                      (0.7, 0.6000000000000001)\n",
       "                         ...                     \n",
       "70                                     (0.0, 0.0)\n",
       "71                                   (-0.8, 0.95)\n",
       "72                                   (-0.1, 0.35)\n",
       "73      (0.08914285714285715, 0.4751428571428571)\n",
       "74      (0.13333333333333333, 0.4666666666666666)\n",
       "75                                     (0.0, 1.0)\n",
       "76                    (0.06818181818181818, 0.75)\n",
       "77                   (-0.13333333333333333, 0.65)\n",
       "78                                     (0.0, 0.0)\n",
       "79                                     (0.0, 0.0)\n",
       "80     (0.13636363636363635, 0.45454545454545453)\n",
       "81                     (0.39999999999999997, 0.5)\n",
       "82       (0.5638095238095238, 0.7738095238095238)\n",
       "83                                  (0.2125, 0.8)\n",
       "84      (0.18541666666666667, 0.3833333333333333)\n",
       "85                                   (0.05, 0.35)\n",
       "86                                 (0.325, 0.625)\n",
       "87                                     (0.0, 0.0)\n",
       "88    (-0.16666666666666666, 0.16666666666666666)\n",
       "89                                     (0.0, 1.0)\n",
       "90      (0.21666666666666667, 0.9166666666666666)\n",
       "91                     (0.13636363636363635, 0.5)\n",
       "92                                     (0.0, 0.1)\n",
       "93                                     (0.2, 0.2)\n",
       "94                                     (0.5, 0.5)\n",
       "95                                    (-0.1, 0.2)\n",
       "96                                  (-0.15, 0.55)\n",
       "97                    (-0.16666666666666666, 1.0)\n",
       "98                                   (-0.25, 0.4)\n",
       "99                                     (0.0, 0.0)\n",
       "Name: quotes, Length: 100, dtype: object"
      ]
     },
     "execution_count": 11,
     "metadata": {},
     "output_type": "execute_result"
    }
   ],
   "source": [
    "data[\"quotes\"].apply(get_sentiment)"
   ]
  },
  {
   "cell_type": "code",
   "execution_count": 20,
   "metadata": {},
   "outputs": [],
   "source": [
    "data[\"sentiment\"] = data[\"quotes\"].apply(get_sentiment)"
   ]
  },
  {
   "cell_type": "code",
   "execution_count": 21,
   "metadata": {
    "collapsed": true
   },
   "outputs": [
    {
     "data": {
      "text/plain": [
       "['“The world as we have created it is a process of our thinking. It cannot be changed without changing our thinking.”',\n",
       " '“It is our choices, Harry, that show what we truly are, far more than our abilities.”',\n",
       " '“There are only two ways to live your life. One is as though nothing is a miracle. The other is as though everything is a miracle.”',\n",
       " '“The person, be it gentleman or lady, who has not pleasure in a good novel, must be intolerably stupid.”',\n",
       " \"“Imperfection is beauty, madness is genius and it's better to be absolutely ridiculous than absolutely boring.”\",\n",
       " '“Try not to become a man of success. Rather become a man of value.”',\n",
       " '“It is better to be hated for what you are than to be loved for what you are not.”',\n",
       " \"“I have not failed. I've just found 10,000 ways that won't work.”\",\n",
       " \"“A woman is like a tea bag; you never know how strong it is until it's in hot water.”\",\n",
       " '“A day without sunshine is like, you know, night.”',\n",
       " \"“This life is what you make it. No matter what, you're going to mess up sometimes, it's a universal truth. But the good part is you get to decide how you're going to mess it up. Girls will be your friends - they'll act like it anyway. But just remember, some come, some go. The ones that stay with you through everything - they're your true best friends. Don't let go of them. Also remember, sisters make the best friends in the world. As for lovers, well, they'll come and go too. And baby, I hate to say it, most of them - actually pretty much all of them are going to break your heart, but you can't give up because if you give up, you'll never find your soulmate. You'll never find that half who makes you whole and that goes for everything. Just because you fail once, doesn't mean you're gonna fail at everything. Keep trying, hold on, and always, always, always believe in yourself, because if you don't, then who will, sweetie? So keep your head high, keep your chin up, and most importantly, keep smiling, because life's a beautiful thing and there's so much to smile about.”\",\n",
       " '“It takes a great deal of bravery to stand up to our enemies, but just as much to stand up to our friends.”',\n",
       " \"“If you can't explain it to a six year old, you don't understand it yourself.”\",\n",
       " \"“You may not be her first, her last, or her only. She loved before she may love again. But if she loves you now, what else matters? She's not perfect—you aren't either, and the two of you may never be perfect together but if she can make you laugh, cause you to think twice, and admit to being human and making mistakes, hold onto her and give her the most you can. She may not be thinking about you every second of the day, but she will give you a part of her that she knows you can break—her heart. So don't hurt her, don't change her, don't analyze and don't expect more than she can give. Smile when she makes you happy, let her know when she makes you mad, and miss her when she's not there.”\",\n",
       " '“I like nonsense, it wakes up the brain cells. Fantasy is a necessary ingredient in living.”',\n",
       " '“I may not have gone where I intended to go, but I think I have ended up where I needed to be.”',\n",
       " \"“The opposite of love is not hate, it's indifference. The opposite of art is not ugliness, it's indifference. The opposite of faith is not heresy, it's indifference. And the opposite of life is not death, it's indifference.”\",\n",
       " '“It is not a lack of love, but a lack of friendship that makes unhappy marriages.”',\n",
       " '“Good friends, good books, and a sleepy conscience: this is the ideal life.”',\n",
       " '“Life is what happens to us while we are making other plans.”',\n",
       " '“I love you without knowing how, or when, or from where. I love you simply, without problems or pride: I love you in this way because I do not know any other way of loving but this, in which there is no I or you, so intimate that your hand upon my chest is my hand, so intimate that when I fall asleep your eyes close.”',\n",
       " '“For every minute you are angry you lose sixty seconds of happiness.”',\n",
       " '“If you judge people, you have no time to love them.”',\n",
       " '“Anyone who thinks sitting in church can make you a Christian must also think that sitting in a garage can make you a car.”',\n",
       " '“Beauty is in the eye of the beholder and it may be necessary from time to time to give a stupid or misinformed beholder a black eye.”',\n",
       " '“Today you are You, that is truer than true. There is no one alive who is Youer than You.”',\n",
       " '“If you want your children to be intelligent, read them fairy tales. If you want them to be more intelligent, read them more fairy tales.”',\n",
       " '“It is impossible to live without failing at something, unless you live so cautiously that you might as well not have lived at all - in which case, you fail by default.”',\n",
       " '“Logic will get you from A to Z; imagination will get you everywhere.”',\n",
       " '“One good thing about music, when it hits you, you feel no pain.”',\n",
       " \"“The more that you read, the more things you will know. The more that you learn, the more places you'll go.”\",\n",
       " '“Of course it is happening inside your head, Harry, but why on earth should that mean that it is not real?”',\n",
       " '“The truth is, everyone is going to hurt you. You just got to find the ones worth suffering for.”',\n",
       " '“Not all of us can do great things. But we can do small things with great love.”',\n",
       " '“To the well-organized mind, death is but the next great adventure.”',\n",
       " \"“All you need is love. But a little chocolate now and then doesn't hurt.”\",\n",
       " \"“We read to know we're not alone.”\",\n",
       " '“Any fool can know. The point is to understand.”',\n",
       " '“I have always imagined that Paradise will be a kind of library.”',\n",
       " '“It is never too late to be what you might have been.”',\n",
       " '“A reader lives a thousand lives before he dies, said Jojen. The man who never reads lives only one.”',\n",
       " '“You can never get a cup of tea large enough or a book long enough to suit me.”',\n",
       " '“You believe lies so you eventually learn to trust no one but yourself.”',\n",
       " '“If you can make a woman laugh, you can make her do anything.”',\n",
       " '“Life is like riding a bicycle. To keep your balance, you must keep moving.”',\n",
       " '“The real lover is the man who can thrill you by kissing your forehead or smiling into your eyes or just staring into space.”',\n",
       " \"“A wise girl kisses but doesn't love, listens but doesn't believe, and leaves before she is left.”\",\n",
       " '“Only in the darkness can you see the stars.”',\n",
       " '“It matters not what someone is born, but what they grow to be.”',\n",
       " '“Love does not begin and end the way we seem to think it does. Love is a battle, love is a war; love is a growing up.”',\n",
       " '“There is nothing I would not do for those who are really my friends. I have no notion of loving people by halves, it is not my nature.”',\n",
       " '“Do one thing every day that scares you.”',\n",
       " '“I am good, but not an angel. I do sin, but I am not the devil. I am just a small girl in a big world trying to find someone to love.”',\n",
       " '“If I were not a physicist, I would probably be a musician. I often think in music. I live my daydreams in music. I see my life in terms of music.”',\n",
       " '“If you only read the books that everyone else is reading, you can only think what everyone else is thinking.”',\n",
       " '“The difference between genius and stupidity is: genius has its limits.”',\n",
       " \"“He's like a drug for you, Bella.”\",\n",
       " '“There is no friend as loyal as a book.”',\n",
       " '“When one door of happiness closes, another opens; but often we look so long at the closed door that we do not see the one which has been opened for us.”',\n",
       " \"“Life isn't about finding yourself. Life is about creating yourself.”\",\n",
       " \"“That's the problem with drinking, I thought, as I poured myself a drink. If something bad happens you drink in an attempt to forget; if something good happens you drink in order to celebrate; and if nothing happens you drink to make something happen.”\",\n",
       " '“You don’t forget the face of the person who was your last hope.”',\n",
       " \"“Remember, we're madly in love, so it's all right to kiss me anytime you feel like it.”\",\n",
       " '“To love at all is to be vulnerable. Love anything and your heart will be wrung and possibly broken. If you want to make sure of keeping it intact you must give it to no one, not even an animal. Wrap it carefully round with hobbies and little luxuries; avoid all entanglements. Lock it up safe in the casket or coffin of your selfishness. But in that casket, safe, dark, motionless, airless, it will change. It will not be broken; it will become unbreakable, impenetrable, irredeemable. To love is to be vulnerable.”',\n",
       " '“Not all those who wander are lost.”',\n",
       " '“Do not pity the dead, Harry. Pity the living, and, above all those who live without love.”',\n",
       " '“There is nothing to writing. All you do is sit down at a typewriter and bleed.”',\n",
       " '“Finish each day and be done with it. You have done what you could. Some blunders and absurdities no doubt crept in; forget them as soon as you can. Tomorrow is a new day. You shall begin it serenely and with too high a spirit to be encumbered with your old nonsense.”',\n",
       " '“I have never let my schooling interfere with my education.”',\n",
       " \"“I have heard there are troubles of more than one kind. Some come from ahead and some come from behind. But I've bought a big bat. I'm all ready you see. Now my troubles are going to have troubles with me!”\",\n",
       " '“If I had a flower for every time I thought of you...I could walk through my garden forever.”',\n",
       " '“Some people never go crazy. What truly horrible lives they must lead.”',\n",
       " '“The trouble with having an open mind, of course, is that people will insist on coming along and trying to put things in it.”',\n",
       " '“Think left and think right and think low and think high. Oh, the thinks you can think up if only you try!”',\n",
       " \"“What really knocks me out is a book that, when you're all done reading it, you wish the author that wrote it was a terrific friend of yours and you could call him up on the phone whenever you felt like it. That doesn't happen much, though.”\",\n",
       " '“The reason I talk to myself is because I’m the only one whose answers I accept.”',\n",
       " \"“You may say I'm a dreamer, but I'm not the only one. I hope someday you'll join us. And the world will live as one.”\",\n",
       " '“I am free of all prejudice. I hate everyone equally. ”',\n",
       " \"“The question isn't who is going to let me; it's who is going to stop me.”\",\n",
       " \"“′Classic′ - a book which people praise and don't read.”\",\n",
       " '“Anyone who has never made a mistake has never tried anything new.”',\n",
       " \"“A lady's imagination is very rapid; it jumps from admiration to love, from love to matrimony in a moment.”\",\n",
       " '“Remember, if the time should come when you have to make a choice between what is right and what is easy, remember what happened to a boy who was good, and kind, and brave, because he strayed across the path of Lord Voldemort. Remember Cedric Diggory.”',\n",
       " '“I declare after all there is no enjoyment like reading! How much sooner one tires of any thing than of a book! -- When I have a house of my own, I shall be miserable if I have not an excellent library.”',\n",
       " '“There are few people whom I really love, and still fewer of whom I think well. The more I see of the world, the more am I dissatisfied with it; and every day confirms my belief of the inconsistency of all human characters, and of the little dependence that can be placed on the appearance of merit or sense.”',\n",
       " '“Some day you will be old enough to start reading fairy tales again.”',\n",
       " '“We are not necessarily doubting that God will do the best for us; we are wondering how painful the best will turn out to be.”',\n",
       " '“The fear of death follows from the fear of life. A man who lives fully is prepared to die at any time.”',\n",
       " '“A lie can travel half way around the world while the truth is putting on its shoes.”',\n",
       " '“I believe in Christianity as I believe that the sun has risen: not only because I see it, but because by it I see everything else.”',\n",
       " '“The truth.\" Dumbledore sighed. \"It is a beautiful and terrible thing, and should therefore be treated with great caution.”',\n",
       " \"“I'm the one that's got to die when it's time for me to die, so let me live my life the way I want to.”\",\n",
       " '“To die will be an awfully big adventure.”',\n",
       " '“It takes courage to grow up and become who you really are.”',\n",
       " '“But better to get hurt by the truth than comforted with a lie.”',\n",
       " '“You never really understand a person until you consider things from his point of view... Until you climb inside of his skin and walk around in it.”',\n",
       " '“You have to write the book that wants to be written. And if the book will be too difficult for grown-ups, then you write it for children.”',\n",
       " '“Never tell the truth to people who are not worthy of it.”',\n",
       " \"“A person's a person, no matter how small.”\",\n",
       " '“... a mind needs books as a sword needs a whetstone, if it is to keep its edge.”']"
      ]
     },
     "execution_count": 21,
     "metadata": {},
     "output_type": "execute_result"
    }
   ],
   "source": [
    "lst = data[\"quotes\"].tolist()\n",
    "lst"
   ]
  },
  {
   "cell_type": "code",
   "execution_count": 23,
   "metadata": {},
   "outputs": [],
   "source": [
    "text = TextBlob(\"\") "
   ]
  },
  {
   "cell_type": "code",
   "execution_count": 25,
   "metadata": {},
   "outputs": [],
   "source": [
    "  for i in lst:\n",
    "    if i not in sw:\n",
    "        text =text + TextBlob(i)"
   ]
  },
  {
   "cell_type": "code",
   "execution_count": 26,
   "metadata": {},
   "outputs": [],
   "source": [
    "freq=nltk.FreqDist(text.words[:30])"
   ]
  },
  {
   "cell_type": "code",
   "execution_count": 27,
   "metadata": {},
   "outputs": [
    {
     "data": {
      "text/plain": [
       "<Figure size 640x480 with 1 Axes>"
      ]
     },
     "metadata": {},
     "output_type": "display_data"
    }
   ],
   "source": [
    "freq.plot()"
   ]
  },
  {
   "cell_type": "code",
   "execution_count": 30,
   "metadata": {},
   "outputs": [],
   "source": [
    "from sklearn.feature_extraction.text import TfidfVectorizer"
   ]
  },
  {
   "cell_type": "code",
   "execution_count": 31,
   "metadata": {},
   "outputs": [],
   "source": [
    "tfidf = TfidfVectorizer()\n",
    "tfidf_matrix = tfidf.fit_transform(data[\"quotes\"])\n",
    "features = tfidf.get_feature_names()\n",
    "tfidf_matrix = tfidf_matrix.toarray()"
   ]
  },
  {
   "cell_type": "code",
   "execution_count": 32,
   "metadata": {},
   "outputs": [],
   "source": [
    "data2= pd.DataFrame(tfidf_matrix,columns = features)"
   ]
  },
  {
   "cell_type": "code",
   "execution_count": 33,
   "metadata": {},
   "outputs": [
    {
     "data": {
      "text/plain": [
       "'“There are only two ways to live your life. One is as though nothing is a miracle. The other is as though everything is a miracle.”'"
      ]
     },
     "execution_count": 33,
     "metadata": {},
     "output_type": "execute_result"
    }
   ],
   "source": [
    "data[\"quotes\"][2]"
   ]
  },
  {
   "cell_type": "code",
   "execution_count": 36,
   "metadata": {},
   "outputs": [],
   "source": [
    "#####"
   ]
  },
  {
   "cell_type": "code",
   "execution_count": 37,
   "metadata": {},
   "outputs": [],
   "source": [
    "url = \"https://www.codecademy.com/login?redirect=%2F\""
   ]
  },
  {
   "cell_type": "code",
   "execution_count": 39,
   "metadata": {},
   "outputs": [],
   "source": [
    "browser = webdriver.Chrome()"
   ]
  },
  {
   "cell_type": "code",
   "execution_count": 40,
   "metadata": {},
   "outputs": [],
   "source": [
    "browser.get(url)"
   ]
  },
  {
   "cell_type": "code",
   "execution_count": 41,
   "metadata": {},
   "outputs": [],
   "source": [
    "login =\"DataScientist-Scraper\"\n",
    "password = \"scrapinghub\""
   ]
  },
  {
   "cell_type": "code",
   "execution_count": 42,
   "metadata": {},
   "outputs": [],
   "source": [
    "email = browser.find_element_by_name(\"user[login]\")"
   ]
  },
  {
   "cell_type": "code",
   "execution_count": 43,
   "metadata": {},
   "outputs": [],
   "source": [
    "email.send_keys(login)"
   ]
  },
  {
   "cell_type": "code",
   "execution_count": 44,
   "metadata": {},
   "outputs": [],
   "source": [
    "parol = browser.find_element_by_name(\"user[password]\")"
   ]
  },
  {
   "cell_type": "code",
   "execution_count": 45,
   "metadata": {},
   "outputs": [],
   "source": [
    "parol.send_keys(password)"
   ]
  },
  {
   "cell_type": "code",
   "execution_count": 46,
   "metadata": {},
   "outputs": [],
   "source": [
    "signup= browser.find_element_by_id(\"user_submit\")"
   ]
  },
  {
   "cell_type": "code",
   "execution_count": 47,
   "metadata": {},
   "outputs": [],
   "source": [
    "signup.click()"
   ]
  },
  {
   "cell_type": "code",
   "execution_count": 48,
   "metadata": {},
   "outputs": [],
   "source": [
    "#####"
   ]
  },
  {
   "cell_type": "code",
   "execution_count": 49,
   "metadata": {},
   "outputs": [],
   "source": [
    "html = browser.page_source"
   ]
  },
  {
   "cell_type": "code",
   "execution_count": 50,
   "metadata": {},
   "outputs": [],
   "source": [
    "browser.close()"
   ]
  },
  {
   "cell_type": "code",
   "execution_count": 53,
   "metadata": {},
   "outputs": [],
   "source": [
    "text = \"I am John and I am 12 years old , Jack is 23 and Suzan is 45 and 2132 they all earning $100\""
   ]
  },
  {
   "cell_type": "code",
   "execution_count": 64,
   "metadata": {},
   "outputs": [],
   "source": [
    "names = re.findall(\"[A-Z][a-z]+\",text)"
   ]
  },
  {
   "cell_type": "code",
   "execution_count": 62,
   "metadata": {},
   "outputs": [],
   "source": [
    "ages = [i.strip()for i in re.findall(\"\\s\\d\\d\\s\",text)]"
   ]
  },
  {
   "cell_type": "code",
   "execution_count": 65,
   "metadata": {},
   "outputs": [
    {
     "data": {
      "text/plain": [
       "{'John': '12', 'Jack': '23', 'Suzan': '45'}"
      ]
     },
     "execution_count": 65,
     "metadata": {},
     "output_type": "execute_result"
    }
   ],
   "source": [
    "dct = dict(zip(names,ages))\n",
    "dct"
   ]
  },
  {
   "cell_type": "code",
   "execution_count": 66,
   "metadata": {},
   "outputs": [],
   "source": [
    "my_t = \"My name is Harry , my email is HarryPotter@aua.am, I need to send my statement of purpose to careers@aua.am \""
   ]
  },
  {
   "cell_type": "code",
   "execution_count": 71,
   "metadata": {},
   "outputs": [
    {
     "data": {
      "text/plain": [
       "'My name is Harry , my email is HarryPotter@hogwarts.com, I need to send my statement of purpose to careers@hogwarts.com '"
      ]
     },
     "execution_count": 71,
     "metadata": {},
     "output_type": "execute_result"
    }
   ],
   "source": [
    "re.sub(\"@[a-z0-9.-]+\", \"@hogwarts.com\", my_t)"
   ]
  },
  {
   "cell_type": "code",
   "execution_count": 72,
   "metadata": {},
   "outputs": [],
   "source": [
    "url = 'https://www.lragir.am/category/country/'\n",
    "wd = webdriver.Chrome()\n",
    "wd.get(url)"
   ]
  },
  {
   "cell_type": "code",
   "execution_count": 74,
   "metadata": {},
   "outputs": [],
   "source": [
    "scroll = wd.find_element_by_tag_name(\"html\")"
   ]
  },
  {
   "cell_type": "code",
   "execution_count": 76,
   "metadata": {},
   "outputs": [],
   "source": [
    "scroll.send_keys(Keys.Keys.END)"
   ]
  },
  {
   "cell_type": "code",
   "execution_count": null,
   "metadata": {},
   "outputs": [],
   "source": []
  }
 ],
 "metadata": {
  "kernelspec": {
   "display_name": "Python 3",
   "language": "python",
   "name": "python3"
  },
  "language_info": {
   "codemirror_mode": {
    "name": "ipython",
    "version": 3
   },
   "file_extension": ".py",
   "mimetype": "text/x-python",
   "name": "python",
   "nbconvert_exporter": "python",
   "pygments_lexer": "ipython3",
   "version": "3.7.3"
  }
 },
 "nbformat": 4,
 "nbformat_minor": 2
}
