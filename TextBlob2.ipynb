{
 "cells": [
  {
   "cell_type": "code",
   "execution_count": 4,
   "metadata": {},
   "outputs": [],
   "source": [
    "from textblob import TextBlob , Word\n",
    "import nltk\n",
    "from nltk.corpus import stopwords , wordnet\n",
    "from nltk.tokenize import sent_tokenize , word_tokenize\n",
    "from nltk.stem import PorterStemmer, WordNetLemmatizer"
   ]
  },
  {
   "cell_type": "code",
   "execution_count": 3,
   "metadata": {},
   "outputs": [
    {
     "name": "stdout",
     "output_type": "stream",
     "text": [
      "Requirement already satisfied: nltk in d:\\users\\user\\anaconda3\\lib\\site-packages (3.4)\n",
      "Requirement already satisfied: six in d:\\users\\user\\anaconda3\\lib\\site-packages (from nltk) (1.12.0)\n",
      "Requirement already satisfied: singledispatch in d:\\users\\user\\anaconda3\\lib\\site-packages (from nltk) (3.4.0.3)\n"
     ]
    }
   ],
   "source": [
    "!pip install nltk"
   ]
  },
  {
   "cell_type": "code",
   "execution_count": 5,
   "metadata": {},
   "outputs": [
    {
     "name": "stderr",
     "output_type": "stream",
     "text": [
      "[nltk_data] Downloading collection 'popular'\n",
      "[nltk_data]    | \n",
      "[nltk_data]    | Downloading package cmudict to\n",
      "[nltk_data]    |     C:\\Users\\USER\\AppData\\Roaming\\nltk_data...\n",
      "[nltk_data]    |   Unzipping corpora\\cmudict.zip.\n",
      "[nltk_data]    | Downloading package gazetteers to\n",
      "[nltk_data]    |     C:\\Users\\USER\\AppData\\Roaming\\nltk_data...\n",
      "[nltk_data]    |   Unzipping corpora\\gazetteers.zip.\n",
      "[nltk_data]    | Downloading package genesis to\n",
      "[nltk_data]    |     C:\\Users\\USER\\AppData\\Roaming\\nltk_data...\n",
      "[nltk_data]    |   Unzipping corpora\\genesis.zip.\n",
      "[nltk_data]    | Downloading package gutenberg to\n",
      "[nltk_data]    |     C:\\Users\\USER\\AppData\\Roaming\\nltk_data...\n",
      "[nltk_data]    |   Unzipping corpora\\gutenberg.zip.\n",
      "[nltk_data]    | Downloading package inaugural to\n",
      "[nltk_data]    |     C:\\Users\\USER\\AppData\\Roaming\\nltk_data...\n",
      "[nltk_data]    |   Unzipping corpora\\inaugural.zip.\n",
      "[nltk_data]    | Downloading package movie_reviews to\n",
      "[nltk_data]    |     C:\\Users\\USER\\AppData\\Roaming\\nltk_data...\n",
      "[nltk_data]    |   Unzipping corpora\\movie_reviews.zip.\n",
      "[nltk_data]    | Downloading package names to\n",
      "[nltk_data]    |     C:\\Users\\USER\\AppData\\Roaming\\nltk_data...\n",
      "[nltk_data]    |   Unzipping corpora\\names.zip.\n",
      "[nltk_data]    | Downloading package shakespeare to\n",
      "[nltk_data]    |     C:\\Users\\USER\\AppData\\Roaming\\nltk_data...\n",
      "[nltk_data]    |   Unzipping corpora\\shakespeare.zip.\n",
      "[nltk_data]    | Downloading package stopwords to\n",
      "[nltk_data]    |     C:\\Users\\USER\\AppData\\Roaming\\nltk_data...\n",
      "[nltk_data]    |   Unzipping corpora\\stopwords.zip.\n",
      "[nltk_data]    | Downloading package treebank to\n",
      "[nltk_data]    |     C:\\Users\\USER\\AppData\\Roaming\\nltk_data...\n",
      "[nltk_data]    |   Unzipping corpora\\treebank.zip.\n",
      "[nltk_data]    | Downloading package twitter_samples to\n",
      "[nltk_data]    |     C:\\Users\\USER\\AppData\\Roaming\\nltk_data...\n",
      "[nltk_data]    |   Unzipping corpora\\twitter_samples.zip.\n",
      "[nltk_data]    | Downloading package omw to\n",
      "[nltk_data]    |     C:\\Users\\USER\\AppData\\Roaming\\nltk_data...\n",
      "[nltk_data]    |   Unzipping corpora\\omw.zip.\n",
      "[nltk_data]    | Downloading package wordnet to\n",
      "[nltk_data]    |     C:\\Users\\USER\\AppData\\Roaming\\nltk_data...\n",
      "[nltk_data]    |   Unzipping corpora\\wordnet.zip.\n",
      "[nltk_data]    | Downloading package wordnet_ic to\n",
      "[nltk_data]    |     C:\\Users\\USER\\AppData\\Roaming\\nltk_data...\n",
      "[nltk_data]    |   Unzipping corpora\\wordnet_ic.zip.\n",
      "[nltk_data]    | Downloading package words to\n",
      "[nltk_data]    |     C:\\Users\\USER\\AppData\\Roaming\\nltk_data...\n",
      "[nltk_data]    |   Unzipping corpora\\words.zip.\n",
      "[nltk_data]    | Downloading package maxent_ne_chunker to\n",
      "[nltk_data]    |     C:\\Users\\USER\\AppData\\Roaming\\nltk_data...\n",
      "[nltk_data]    |   Unzipping chunkers\\maxent_ne_chunker.zip.\n",
      "[nltk_data]    | Downloading package punkt to\n",
      "[nltk_data]    |     C:\\Users\\USER\\AppData\\Roaming\\nltk_data...\n",
      "[nltk_data]    |   Unzipping tokenizers\\punkt.zip.\n",
      "[nltk_data]    | Downloading package snowball_data to\n",
      "[nltk_data]    |     C:\\Users\\USER\\AppData\\Roaming\\nltk_data...\n",
      "[nltk_data]    | Downloading package averaged_perceptron_tagger to\n",
      "[nltk_data]    |     C:\\Users\\USER\\AppData\\Roaming\\nltk_data...\n",
      "[nltk_data]    |   Unzipping taggers\\averaged_perceptron_tagger.zip.\n",
      "[nltk_data]    | \n",
      "[nltk_data]  Done downloading collection popular\n"
     ]
    },
    {
     "data": {
      "text/plain": [
       "True"
      ]
     },
     "execution_count": 5,
     "metadata": {},
     "output_type": "execute_result"
    }
   ],
   "source": [
    "nltk.download('popular', halt_on_error=False)"
   ]
  },
  {
   "cell_type": "code",
   "execution_count": 6,
   "metadata": {},
   "outputs": [],
   "source": [
    "slayer_lyrics = \"\"\"\n",
    "Trapped in purgatory\n",
    "A lifeless object, alive\n",
    "Awaiting reprisal\n",
    "Death will be their acquiescence\n",
    "The sky is turning red\n",
    "Return to power draws near\n",
    "Fall into me, the sky's crimson tears\n",
    "Abolish the rules made of stone\n",
    "Pierced from below, souls of my treacherous past\n",
    "Betrayed by many, now ornaments dripping above\n",
    "Awaiting the hour of reprisal\n",
    "Your time slips away\n",
    "Raining blood\n",
    "From a lacerated sky\n",
    "Bleeding its horror\n",
    "Creating my structure now I shall reign in blood\n",
    "\"\"\""
   ]
  },
  {
   "cell_type": "code",
   "execution_count": 7,
   "metadata": {},
   "outputs": [],
   "source": [
    "slayer_blob = TextBlob(slayer_lyrics)"
   ]
  },
  {
   "cell_type": "code",
   "execution_count": 8,
   "metadata": {},
   "outputs": [
    {
     "data": {
      "text/plain": [
       "WordList(['Trapped', 'in', 'purgatory', 'A', 'lifeless', 'object', 'alive', 'Awaiting', 'reprisal', 'Death', 'will', 'be', 'their', 'acquiescence', 'The', 'sky', 'is', 'turning', 'red', 'Return', 'to', 'power', 'draws', 'near', 'Fall', 'into', 'me', 'the', 'sky', \"'s\", 'crimson', 'tears', 'Abolish', 'the', 'rules', 'made', 'of', 'stone', 'Pierced', 'from', 'below', 'souls', 'of', 'my', 'treacherous', 'past', 'Betrayed', 'by', 'many', 'now', 'ornaments', 'dripping', 'above', 'Awaiting', 'the', 'hour', 'of', 'reprisal', 'Your', 'time', 'slips', 'away', 'Raining', 'blood', 'From', 'a', 'lacerated', 'sky', 'Bleeding', 'its', 'horror', 'Creating', 'my', 'structure', 'now', 'I', 'shall', 'reign', 'in', 'blood'])"
      ]
     },
     "execution_count": 8,
     "metadata": {},
     "output_type": "execute_result"
    }
   ],
   "source": [
    "slayer_blob.words"
   ]
  },
  {
   "cell_type": "code",
   "execution_count": 10,
   "metadata": {},
   "outputs": [],
   "source": [
    "freq = nltk.FreqDist(slayer_blob.words)"
   ]
  },
  {
   "cell_type": "code",
   "execution_count": 12,
   "metadata": {},
   "outputs": [
    {
     "data": {
      "image/png": "[encoded data removed]",
      "text/plain": [
       "<Figure size 432x288 with 1 Axes>"
      ]
     },
     "metadata": {
      "needs_background": "light"
     },
     "output_type": "display_data"
    }
   ],
   "source": [
    "freq.plot()"
   ]
  },
  {
   "cell_type": "code",
   "execution_count": 13,
   "metadata": {},
   "outputs": [],
   "source": [
    "w1 = Word(\"studied\")\n",
    "w2 = Word(\"danced\")"
   ]
  },
  {
   "cell_type": "code",
   "execution_count": 14,
   "metadata": {},
   "outputs": [
    {
     "data": {
      "text/plain": [
       "'study'"
      ]
     },
     "execution_count": 14,
     "metadata": {},
     "output_type": "execute_result"
    }
   ],
   "source": [
    "w1.lemmatize(\"v\")"
   ]
  },
  {
   "cell_type": "code",
   "execution_count": 15,
   "metadata": {},
   "outputs": [
    {
     "data": {
      "text/plain": [
       "'dance'"
      ]
     },
     "execution_count": 15,
     "metadata": {},
     "output_type": "execute_result"
    }
   ],
   "source": [
    "w2.lemmatize(\"v\")"
   ]
  },
  {
   "cell_type": "code",
   "execution_count": 22,
   "metadata": {
    "collapsed": true
   },
   "outputs": [
    {
     "name": "stdout",
     "output_type": "stream",
     "text": [
      "Trapped trap\n",
      "in in\n",
      "purgatory purgatory\n",
      "A a\n",
      "lifeless lifeless\n",
      "object object\n",
      "alive alive\n",
      "Awaiting await\n",
      "reprisal reprisal\n",
      "Death death\n",
      "will will\n",
      "be be\n",
      "their their\n",
      "acquiescence acquiescence\n",
      "The the\n",
      "sky sky\n",
      "is be\n",
      "turning turn\n",
      "red red\n",
      "Return return\n",
      "to to\n",
      "power power\n",
      "draws draw\n",
      "near near\n",
      "Fall fall\n",
      "into into\n",
      "me me\n",
      "the the\n",
      "sky sky\n",
      "'s 's\n",
      "crimson crimson\n",
      "tears tear\n",
      "Abolish abolish\n",
      "the the\n",
      "rules rule\n",
      "made make\n",
      "of of\n",
      "stone stone\n",
      "Pierced pierce\n",
      "from from\n",
      "below below\n",
      "souls souls\n",
      "of of\n",
      "my my\n",
      "treacherous treacherous\n",
      "past past\n",
      "Betrayed betray\n",
      "by by\n",
      "many many\n",
      "now now\n",
      "ornaments ornament\n",
      "dripping drip\n",
      "above above\n",
      "Awaiting await\n",
      "the the\n",
      "hour hour\n",
      "of of\n",
      "reprisal reprisal\n",
      "Your your\n",
      "time time\n",
      "slips slip\n",
      "away away\n",
      "Raining rain\n",
      "blood blood\n",
      "From from\n",
      "a a\n",
      "lacerated lacerate\n",
      "sky sky\n",
      "Bleeding bleed\n",
      "its its\n",
      "horror horror\n",
      "Creating create\n",
      "my my\n",
      "structure structure\n",
      "now now\n",
      "I i\n",
      "shall shall\n",
      "reign reign\n",
      "in in\n",
      "blood blood\n"
     ]
    }
   ],
   "source": [
    "for i in slayer_blob.words:\n",
    "    print(i, Word(i.lower()).lemmatize(\"v\")) # we write word to make string textblob so we can use lemmatize"
   ]
  },
  {
   "cell_type": "code",
   "execution_count": 23,
   "metadata": {
    "collapsed": true
   },
   "outputs": [
    {
     "data": {
      "text/plain": [
       "[('Trapped', 'VBN'),\n",
       " ('in', 'IN'),\n",
       " ('purgatory', 'NN'),\n",
       " ('A', 'NNP'),\n",
       " ('lifeless', 'NN'),\n",
       " ('object', 'NN'),\n",
       " ('alive', 'JJ'),\n",
       " ('Awaiting', 'NNP'),\n",
       " ('reprisal', 'NN'),\n",
       " ('Death', 'NNP'),\n",
       " ('will', 'MD'),\n",
       " ('be', 'VB'),\n",
       " ('their', 'PRP$'),\n",
       " ('acquiescence', 'NN'),\n",
       " ('The', 'DT'),\n",
       " ('sky', 'NN'),\n",
       " ('is', 'VBZ'),\n",
       " ('turning', 'VBG'),\n",
       " ('red', 'JJ'),\n",
       " ('Return', 'NNP'),\n",
       " ('to', 'TO'),\n",
       " ('power', 'NN'),\n",
       " ('draws', 'NN'),\n",
       " ('near', 'IN'),\n",
       " ('Fall', 'NNP'),\n",
       " ('into', 'IN'),\n",
       " ('me', 'PRP'),\n",
       " ('the', 'DT'),\n",
       " ('sky', 'NN'),\n",
       " (\"'s\", 'POS'),\n",
       " ('crimson', 'JJ'),\n",
       " ('tears', 'NNS'),\n",
       " ('Abolish', 'VBP'),\n",
       " ('the', 'DT'),\n",
       " ('rules', 'NNS'),\n",
       " ('made', 'VBN'),\n",
       " ('of', 'IN'),\n",
       " ('stone', 'NN'),\n",
       " ('Pierced', 'NNP'),\n",
       " ('from', 'IN'),\n",
       " ('below', 'IN'),\n",
       " ('souls', 'NN'),\n",
       " ('of', 'IN'),\n",
       " ('my', 'PRP$'),\n",
       " ('treacherous', 'JJ'),\n",
       " ('past', 'JJ'),\n",
       " ('Betrayed', 'NNP'),\n",
       " ('by', 'IN'),\n",
       " ('many', 'JJ'),\n",
       " ('now', 'RB'),\n",
       " ('ornaments', 'VBZ'),\n",
       " ('dripping', 'VBG'),\n",
       " ('above', 'IN'),\n",
       " ('Awaiting', 'VBG'),\n",
       " ('the', 'DT'),\n",
       " ('hour', 'NN'),\n",
       " ('of', 'IN'),\n",
       " ('reprisal', 'NN'),\n",
       " ('Your', 'PRP$'),\n",
       " ('time', 'NN'),\n",
       " ('slips', 'VBZ'),\n",
       " ('away', 'RB'),\n",
       " ('Raining', 'VBG'),\n",
       " ('blood', 'NN'),\n",
       " ('From', 'IN'),\n",
       " ('a', 'DT'),\n",
       " ('lacerated', 'VBN'),\n",
       " ('sky', 'NN'),\n",
       " ('Bleeding', 'VBG'),\n",
       " ('its', 'PRP$'),\n",
       " ('horror', 'NN'),\n",
       " ('Creating', 'NNP'),\n",
       " ('my', 'PRP$'),\n",
       " ('structure', 'NN'),\n",
       " ('now', 'RB'),\n",
       " ('I', 'PRP'),\n",
       " ('shall', 'MD'),\n",
       " ('reign', 'VB'),\n",
       " ('in', 'IN'),\n",
       " ('blood', 'NN')]"
      ]
     },
     "execution_count": 23,
     "metadata": {},
     "output_type": "execute_result"
    }
   ],
   "source": [
    "slayer_blob.tags"
   ]
  },
  {
   "cell_type": "code",
   "execution_count": 24,
   "metadata": {},
   "outputs": [
    {
     "data": {
      "text/plain": [
       "['move in a graceful and rhythmical way',\n",
       " 'move in a pattern; usually to musical accompaniment; do or perform a dance',\n",
       " 'skip, leap, or move up and down or sideways']"
      ]
     },
     "execution_count": 24,
     "metadata": {},
     "output_type": "execute_result"
    }
   ],
   "source": [
    "w2.definitions"
   ]
  },
  {
   "cell_type": "code",
   "execution_count": 27,
   "metadata": {},
   "outputs": [
    {
     "data": {
      "text/plain": [
       "['consider in detail and subject to an analysis in order to discover essential features or meaning',\n",
       " 'be a student; follow a course of study; be enrolled at an institute of learning',\n",
       " 'give careful consideration to',\n",
       " 'be a student of a certain subject',\n",
       " 'learn by reading books; I must hit the books now\"',\n",
       " 'think intently and at length, as for spiritual purposes',\n",
       " 'produced or marked by conscious design or premeditation']"
      ]
     },
     "execution_count": 27,
     "metadata": {},
     "output_type": "execute_result"
    }
   ],
   "source": [
    "w1.definitions"
   ]
  },
  {
   "cell_type": "code",
   "execution_count": 32,
   "metadata": {},
   "outputs": [],
   "source": [
    "w3 = Word(\"Liana\")"
   ]
  },
  {
   "cell_type": "code",
   "execution_count": 33,
   "metadata": {},
   "outputs": [
    {
     "data": {
      "text/plain": [
       "['a woody climbing usually tropical plant']"
      ]
     },
     "execution_count": 33,
     "metadata": {},
     "output_type": "execute_result"
    }
   ],
   "source": [
    "w3.definitions"
   ]
  },
  {
   "cell_type": "code",
   "execution_count": 34,
   "metadata": {},
   "outputs": [
    {
     "data": {
      "text/plain": [
       "[('conscious', 0.7906976744186046),\n",
       " ('councils', 0.12790697674418605),\n",
       " ('concise', 0.046511627906976744),\n",
       " ('concur', 0.03488372093023256)]"
      ]
     },
     "execution_count": 34,
     "metadata": {},
     "output_type": "execute_result"
    }
   ],
   "source": [
    "Word(\"concius\").spellcheck()"
   ]
  },
  {
   "cell_type": "code",
   "execution_count": 35,
   "metadata": {},
   "outputs": [
    {
     "data": {
      "text/plain": [
       "'conscious'"
      ]
     },
     "execution_count": 35,
     "metadata": {},
     "output_type": "execute_result"
    }
   ],
   "source": [
    "Word(\"concius\").correct()"
   ]
  },
  {
   "cell_type": "code",
   "execution_count": 36,
   "metadata": {},
   "outputs": [
    {
     "data": {
      "text/plain": [
       "[Synset('analyze.v.01'),\n",
       " Synset('study.v.02'),\n",
       " Synset('study.v.03'),\n",
       " Synset('learn.v.04'),\n",
       " Synset('study.v.05'),\n",
       " Synset('study.v.06'),\n",
       " Synset('studied.a.01')]"
      ]
     },
     "execution_count": 36,
     "metadata": {},
     "output_type": "execute_result"
    }
   ],
   "source": [
    "w1.synsets"
   ]
  },
  {
   "cell_type": "code",
   "execution_count": 39,
   "metadata": {},
   "outputs": [
    {
     "data": {
      "text/plain": [
       "[Synset('conscious.s.01'), Synset('conscious.a.02'), Synset('conscious.s.03')]"
      ]
     },
     "execution_count": 39,
     "metadata": {},
     "output_type": "execute_result"
    }
   ],
   "source": [
    "Word(\"conscious\").synsets"
   ]
  },
  {
   "cell_type": "code",
   "execution_count": 40,
   "metadata": {},
   "outputs": [
    {
     "data": {
      "text/plain": [
       "['analyze a sonnet by Shakespeare',\n",
       " 'analyze the evidence in a criminal trial',\n",
       " 'analyze your real motives']"
      ]
     },
     "execution_count": 40,
     "metadata": {},
     "output_type": "execute_result"
    }
   ],
   "source": [
    "w1.synsets[0].examples()"
   ]
  },
  {
   "cell_type": "code",
   "execution_count": 43,
   "metadata": {},
   "outputs": [],
   "source": [
    "stemmer = PorterStemmer()"
   ]
  },
  {
   "cell_type": "code",
   "execution_count": 44,
   "metadata": {},
   "outputs": [
    {
     "data": {
      "text/plain": [
       "'studi'"
      ]
     },
     "execution_count": 44,
     "metadata": {},
     "output_type": "execute_result"
    }
   ],
   "source": [
    "stemmer.stem(\"studied\")"
   ]
  },
  {
   "cell_type": "code",
   "execution_count": 45,
   "metadata": {},
   "outputs": [],
   "source": [
    "sw = stopwords.words('english')"
   ]
  },
  {
   "cell_type": "code",
   "execution_count": 46,
   "metadata": {
    "collapsed": true
   },
   "outputs": [
    {
     "data": {
      "text/plain": [
       "['i',\n",
       " 'me',\n",
       " 'my',\n",
       " 'myself',\n",
       " 'we',\n",
       " 'our',\n",
       " 'ours',\n",
       " 'ourselves',\n",
       " 'you',\n",
       " \"you're\",\n",
       " \"you've\",\n",
       " \"you'll\",\n",
       " \"you'd\",\n",
       " 'your',\n",
       " 'yours',\n",
       " 'yourself',\n",
       " 'yourselves',\n",
       " 'he',\n",
       " 'him',\n",
       " 'his',\n",
       " 'himself',\n",
       " 'she',\n",
       " \"she's\",\n",
       " 'her',\n",
       " 'hers',\n",
       " 'herself',\n",
       " 'it',\n",
       " \"it's\",\n",
       " 'its',\n",
       " 'itself',\n",
       " 'they',\n",
       " 'them',\n",
       " 'their',\n",
       " 'theirs',\n",
       " 'themselves',\n",
       " 'what',\n",
       " 'which',\n",
       " 'who',\n",
       " 'whom',\n",
       " 'this',\n",
       " 'that',\n",
       " \"that'll\",\n",
       " 'these',\n",
       " 'those',\n",
       " 'am',\n",
       " 'is',\n",
       " 'are',\n",
       " 'was',\n",
       " 'were',\n",
       " 'be',\n",
       " 'been',\n",
       " 'being',\n",
       " 'have',\n",
       " 'has',\n",
       " 'had',\n",
       " 'having',\n",
       " 'do',\n",
       " 'does',\n",
       " 'did',\n",
       " 'doing',\n",
       " 'a',\n",
       " 'an',\n",
       " 'the',\n",
       " 'and',\n",
       " 'but',\n",
       " 'if',\n",
       " 'or',\n",
       " 'because',\n",
       " 'as',\n",
       " 'until',\n",
       " 'while',\n",
       " 'of',\n",
       " 'at',\n",
       " 'by',\n",
       " 'for',\n",
       " 'with',\n",
       " 'about',\n",
       " 'against',\n",
       " 'between',\n",
       " 'into',\n",
       " 'through',\n",
       " 'during',\n",
       " 'before',\n",
       " 'after',\n",
       " 'above',\n",
       " 'below',\n",
       " 'to',\n",
       " 'from',\n",
       " 'up',\n",
       " 'down',\n",
       " 'in',\n",
       " 'out',\n",
       " 'on',\n",
       " 'off',\n",
       " 'over',\n",
       " 'under',\n",
       " 'again',\n",
       " 'further',\n",
       " 'then',\n",
       " 'once',\n",
       " 'here',\n",
       " 'there',\n",
       " 'when',\n",
       " 'where',\n",
       " 'why',\n",
       " 'how',\n",
       " 'all',\n",
       " 'any',\n",
       " 'both',\n",
       " 'each',\n",
       " 'few',\n",
       " 'more',\n",
       " 'most',\n",
       " 'other',\n",
       " 'some',\n",
       " 'such',\n",
       " 'no',\n",
       " 'nor',\n",
       " 'not',\n",
       " 'only',\n",
       " 'own',\n",
       " 'same',\n",
       " 'so',\n",
       " 'than',\n",
       " 'too',\n",
       " 'very',\n",
       " 's',\n",
       " 't',\n",
       " 'can',\n",
       " 'will',\n",
       " 'just',\n",
       " 'don',\n",
       " \"don't\",\n",
       " 'should',\n",
       " \"should've\",\n",
       " 'now',\n",
       " 'd',\n",
       " 'll',\n",
       " 'm',\n",
       " 'o',\n",
       " 're',\n",
       " 've',\n",
       " 'y',\n",
       " 'ain',\n",
       " 'aren',\n",
       " \"aren't\",\n",
       " 'couldn',\n",
       " \"couldn't\",\n",
       " 'didn',\n",
       " \"didn't\",\n",
       " 'doesn',\n",
       " \"doesn't\",\n",
       " 'hadn',\n",
       " \"hadn't\",\n",
       " 'hasn',\n",
       " \"hasn't\",\n",
       " 'haven',\n",
       " \"haven't\",\n",
       " 'isn',\n",
       " \"isn't\",\n",
       " 'ma',\n",
       " 'mightn',\n",
       " \"mightn't\",\n",
       " 'mustn',\n",
       " \"mustn't\",\n",
       " 'needn',\n",
       " \"needn't\",\n",
       " 'shan',\n",
       " \"shan't\",\n",
       " 'shouldn',\n",
       " \"shouldn't\",\n",
       " 'wasn',\n",
       " \"wasn't\",\n",
       " 'weren',\n",
       " \"weren't\",\n",
       " 'won',\n",
       " \"won't\",\n",
       " 'wouldn',\n",
       " \"wouldn't\"]"
      ]
     },
     "execution_count": 46,
     "metadata": {},
     "output_type": "execute_result"
    }
   ],
   "source": [
    "sw"
   ]
  },
  {
   "cell_type": "code",
   "execution_count": 50,
   "metadata": {},
   "outputs": [
    {
     "data": {
      "text/plain": [
       "['trapped',\n",
       " 'purgatory',\n",
       " 'lifeless',\n",
       " 'object',\n",
       " 'alive',\n",
       " 'awaiting',\n",
       " 'reprisal',\n",
       " 'death',\n",
       " 'acquiescence',\n",
       " 'sky',\n",
       " 'turning',\n",
       " 'red',\n",
       " 'return',\n",
       " 'power',\n",
       " 'draws',\n",
       " 'near',\n",
       " 'fall',\n",
       " 'sky',\n",
       " \"'s\",\n",
       " 'crimson',\n",
       " 'tears',\n",
       " 'abolish',\n",
       " 'rules',\n",
       " 'made',\n",
       " 'stone',\n",
       " 'pierced',\n",
       " 'souls',\n",
       " 'treacherous',\n",
       " 'past',\n",
       " 'betrayed',\n",
       " 'many',\n",
       " 'ornaments',\n",
       " 'dripping',\n",
       " 'awaiting',\n",
       " 'hour',\n",
       " 'reprisal',\n",
       " 'time',\n",
       " 'slips',\n",
       " 'away',\n",
       " 'raining',\n",
       " 'blood',\n",
       " 'lacerated',\n",
       " 'sky',\n",
       " 'bleeding',\n",
       " 'horror',\n",
       " 'creating',\n",
       " 'structure',\n",
       " 'shall',\n",
       " 'reign',\n",
       " 'blood']"
      ]
     },
     "execution_count": 50,
     "metadata": {},
     "output_type": "execute_result"
    }
   ],
   "source": [
    "[i for i in slayer_blob.words.lower() if i not in sw]"
   ]
  },
  {
   "cell_type": "code",
   "execution_count": null,
   "metadata": {},
   "outputs": [],
   "source": []
  }
 ],
 "metadata": {
  "kernelspec": {
   "display_name": "Python 3",
   "language": "python",
   "name": "python3"
  },
  "language_info": {
   "codemirror_mode": {
    "name": "ipython",
    "version": 3
   },
   "file_extension": ".py",
   "mimetype": "text/x-python",
   "name": "python",
   "nbconvert_exporter": "python",
   "pygments_lexer": "ipython3",
   "version": "3.7.3"
  }
 },
 "nbformat": 4,
 "nbformat_minor": 2
}
