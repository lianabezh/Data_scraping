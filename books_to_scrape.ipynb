{
 "cells": [
  {
   "cell_type": "code",
   "execution_count": 2,
   "metadata": {},
   "outputs": [],
   "source": [
    "import re \n",
    "import time\n",
    "import requests\n",
    "import numpy as np\n",
    "import pandas as pd\n",
    "from textblob import TextBlob , Word\n",
    "from scrapy.http import TextResponse"
   ]
  },
  {
   "cell_type": "code",
   "execution_count": 4,
   "metadata": {},
   "outputs": [],
   "source": [
    "url = \"http://books.toscrape.com/index.html\"\n",
    "page = requests.get(url)\n",
    "response = TextResponse(url= page.url, body = page.text , encoding = \"utf-8\")"
   ]
  },
  {
   "cell_type": "code",
   "execution_count": 6,
   "metadata": {},
   "outputs": [
    {
     "data": {
      "text/plain": [
       "['51.77',\n",
       " '53.74',\n",
       " '50.10',\n",
       " '47.82',\n",
       " '54.23',\n",
       " '22.65',\n",
       " '33.34',\n",
       " '17.93',\n",
       " '22.60',\n",
       " '52.15',\n",
       " '13.99',\n",
       " '20.66',\n",
       " '17.46',\n",
       " '52.29',\n",
       " '35.02',\n",
       " '57.25',\n",
       " '23.88',\n",
       " '37.59',\n",
       " '51.33',\n",
       " '45.17']"
      ]
     },
     "execution_count": 6,
     "metadata": {},
     "output_type": "execute_result"
    }
   ],
   "source": [
    "response.css(\"p.price_color::text\").re(\"\\d.*\\d\")"
   ]
  },
  {
   "cell_type": "code",
   "execution_count": 7,
   "metadata": {},
   "outputs": [
    {
     "data": {
      "text/plain": [
       "['star-rating Three', 'star-rating Three', 'star-rating Three']"
      ]
     },
     "execution_count": 7,
     "metadata": {},
     "output_type": "execute_result"
    }
   ],
   "source": [
    "response.css(\"p[class='star-rating Three']::attr(class)\").extract()"
   ]
  },
  {
   "cell_type": "code",
   "execution_count": 10,
   "metadata": {
    "collapsed": true
   },
   "outputs": [
    {
     "data": {
      "text/plain": [
       "['star-rating Three',\n",
       " 'star-rating One',\n",
       " 'star-rating One',\n",
       " 'star-rating Four',\n",
       " 'star-rating Five',\n",
       " 'star-rating One',\n",
       " 'star-rating Four',\n",
       " 'star-rating Three',\n",
       " 'star-rating Four',\n",
       " 'star-rating One',\n",
       " 'star-rating Two',\n",
       " 'star-rating Four',\n",
       " 'star-rating Five',\n",
       " 'star-rating Five',\n",
       " 'star-rating Five',\n",
       " 'star-rating Three',\n",
       " 'star-rating One',\n",
       " 'star-rating One',\n",
       " 'star-rating Two',\n",
       " 'star-rating Two']"
      ]
     },
     "execution_count": 10,
     "metadata": {},
     "output_type": "execute_result"
    }
   ],
   "source": [
    "response.css(\"p[class*='star-rating']::attr(class)\").extract() # * means contains"
   ]
  },
  {
   "cell_type": "code",
   "execution_count": 11,
   "metadata": {
    "collapsed": true
   },
   "outputs": [
    {
     "data": {
      "text/plain": [
       "['star-rating Three',\n",
       " 'star-rating One',\n",
       " 'star-rating One',\n",
       " 'star-rating Four',\n",
       " 'star-rating Five',\n",
       " 'star-rating One',\n",
       " 'star-rating Four',\n",
       " 'star-rating Three',\n",
       " 'star-rating Four',\n",
       " 'star-rating One',\n",
       " 'star-rating Two',\n",
       " 'star-rating Four',\n",
       " 'star-rating Five',\n",
       " 'star-rating Five',\n",
       " 'star-rating Five',\n",
       " 'star-rating Three',\n",
       " 'star-rating One',\n",
       " 'star-rating One',\n",
       " 'star-rating Two',\n",
       " 'star-rating Two']"
      ]
     },
     "execution_count": 11,
     "metadata": {},
     "output_type": "execute_result"
    }
   ],
   "source": [
    "response.css(\"p[class^='star-rating']::attr(class)\").extract() # ^ means starts with"
   ]
  },
  {
   "cell_type": "code",
   "execution_count": null,
   "metadata": {},
   "outputs": [],
   "source": []
  },
  {
   "cell_type": "code",
   "execution_count": null,
   "metadata": {},
   "outputs": [],
   "source": [
    "response.css(\"td[class='titleColumn']::attr(href)\").extract()"
   ]
  }
 ],
 "metadata": {
  "kernelspec": {
   "display_name": "Python 3",
   "language": "python",
   "name": "python3"
  },
  "language_info": {
   "codemirror_mode": {
    "name": "ipython",
    "version": 3
   },
   "file_extension": ".py",
   "mimetype": "text/x-python",
   "name": "python",
   "nbconvert_exporter": "python",
   "pygments_lexer": "ipython3",
   "version": "3.7.3"
  }
 },
 "nbformat": 4,
 "nbformat_minor": 2
}
