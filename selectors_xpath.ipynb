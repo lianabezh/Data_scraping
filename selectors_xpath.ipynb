{
 "cells": [
  {
   "cell_type": "code",
   "execution_count": 1,
   "metadata": {},
   "outputs": [],
   "source": [
    "import requests\n",
    "from scrapy.http import TextResponse\n"
   ]
  },
  {
   "cell_type": "code",
   "execution_count": 2,
   "metadata": {},
   "outputs": [],
   "source": [
    "url =\"http://quotes.toscrape.com/\""
   ]
  },
  {
   "cell_type": "code",
   "execution_count": 3,
   "metadata": {},
   "outputs": [],
   "source": [
    "response = requests.get(url)"
   ]
  },
  {
   "cell_type": "code",
   "execution_count": 4,
   "metadata": {},
   "outputs": [
    {
     "name": "stdout",
     "output_type": "stream",
     "text": [
      "200\n"
     ]
    }
   ],
   "source": [
    "print(response.status_code)"
   ]
  },
  {
   "cell_type": "code",
   "execution_count": 5,
   "metadata": {},
   "outputs": [],
   "source": [
    "response = TextResponse(url=response.url,body = response.text,encoding='utf-8')"
   ]
  },
  {
   "cell_type": "code",
   "execution_count": 7,
   "metadata": {
    "collapsed": true
   },
   "outputs": [
    {
     "data": {
      "text/plain": [
       "['change',\n",
       " 'deep-thoughts',\n",
       " 'thinking',\n",
       " 'world',\n",
       " 'abilities',\n",
       " 'choices',\n",
       " 'inspirational',\n",
       " 'life',\n",
       " 'live',\n",
       " 'miracle',\n",
       " 'miracles',\n",
       " 'aliteracy',\n",
       " 'books',\n",
       " 'classic',\n",
       " 'humor',\n",
       " 'be-yourself',\n",
       " 'inspirational',\n",
       " 'adulthood',\n",
       " 'success',\n",
       " 'value',\n",
       " 'life',\n",
       " 'love',\n",
       " 'edison',\n",
       " 'failure',\n",
       " 'inspirational',\n",
       " 'paraphrased',\n",
       " 'misattributed-eleanor-roosevelt',\n",
       " 'humor',\n",
       " 'obvious',\n",
       " 'simile',\n",
       " 'love',\n",
       " 'inspirational',\n",
       " 'life',\n",
       " 'humor',\n",
       " 'books',\n",
       " 'reading',\n",
       " 'friendship',\n",
       " 'friends',\n",
       " 'truth',\n",
       " 'simile']"
      ]
     },
     "execution_count": 7,
     "metadata": {},
     "output_type": "execute_result"
    }
   ],
   "source": [
    "response.css('a[class=\"tag\"]::text').extract()"
   ]
  },
  {
   "cell_type": "code",
   "execution_count": 8,
   "metadata": {
    "collapsed": true
   },
   "outputs": [
    {
     "data": {
      "text/plain": [
       "[<Selector xpath='//a[@class=\"tag\"]' data='<a class=\"tag\" href=\"/tag/change/page/1/'>,\n",
       " <Selector xpath='//a[@class=\"tag\"]' data='<a class=\"tag\" href=\"/tag/deep-thoughts/'>,\n",
       " <Selector xpath='//a[@class=\"tag\"]' data='<a class=\"tag\" href=\"/tag/thinking/page/'>,\n",
       " <Selector xpath='//a[@class=\"tag\"]' data='<a class=\"tag\" href=\"/tag/world/page/1/\"'>,\n",
       " <Selector xpath='//a[@class=\"tag\"]' data='<a class=\"tag\" href=\"/tag/abilities/page'>,\n",
       " <Selector xpath='//a[@class=\"tag\"]' data='<a class=\"tag\" href=\"/tag/choices/page/1'>,\n",
       " <Selector xpath='//a[@class=\"tag\"]' data='<a class=\"tag\" href=\"/tag/inspirational/'>,\n",
       " <Selector xpath='//a[@class=\"tag\"]' data='<a class=\"tag\" href=\"/tag/life/page/1/\">'>,\n",
       " <Selector xpath='//a[@class=\"tag\"]' data='<a class=\"tag\" href=\"/tag/live/page/1/\">'>,\n",
       " <Selector xpath='//a[@class=\"tag\"]' data='<a class=\"tag\" href=\"/tag/miracle/page/1'>,\n",
       " <Selector xpath='//a[@class=\"tag\"]' data='<a class=\"tag\" href=\"/tag/miracles/page/'>,\n",
       " <Selector xpath='//a[@class=\"tag\"]' data='<a class=\"tag\" href=\"/tag/aliteracy/page'>,\n",
       " <Selector xpath='//a[@class=\"tag\"]' data='<a class=\"tag\" href=\"/tag/books/page/1/\"'>,\n",
       " <Selector xpath='//a[@class=\"tag\"]' data='<a class=\"tag\" href=\"/tag/classic/page/1'>,\n",
       " <Selector xpath='//a[@class=\"tag\"]' data='<a class=\"tag\" href=\"/tag/humor/page/1/\"'>,\n",
       " <Selector xpath='//a[@class=\"tag\"]' data='<a class=\"tag\" href=\"/tag/be-yourself/pa'>,\n",
       " <Selector xpath='//a[@class=\"tag\"]' data='<a class=\"tag\" href=\"/tag/inspirational/'>,\n",
       " <Selector xpath='//a[@class=\"tag\"]' data='<a class=\"tag\" href=\"/tag/adulthood/page'>,\n",
       " <Selector xpath='//a[@class=\"tag\"]' data='<a class=\"tag\" href=\"/tag/success/page/1'>,\n",
       " <Selector xpath='//a[@class=\"tag\"]' data='<a class=\"tag\" href=\"/tag/value/page/1/\"'>,\n",
       " <Selector xpath='//a[@class=\"tag\"]' data='<a class=\"tag\" href=\"/tag/life/page/1/\">'>,\n",
       " <Selector xpath='//a[@class=\"tag\"]' data='<a class=\"tag\" href=\"/tag/love/page/1/\">'>,\n",
       " <Selector xpath='//a[@class=\"tag\"]' data='<a class=\"tag\" href=\"/tag/edison/page/1/'>,\n",
       " <Selector xpath='//a[@class=\"tag\"]' data='<a class=\"tag\" href=\"/tag/failure/page/1'>,\n",
       " <Selector xpath='//a[@class=\"tag\"]' data='<a class=\"tag\" href=\"/tag/inspirational/'>,\n",
       " <Selector xpath='//a[@class=\"tag\"]' data='<a class=\"tag\" href=\"/tag/paraphrased/pa'>,\n",
       " <Selector xpath='//a[@class=\"tag\"]' data='<a class=\"tag\" href=\"/tag/misattributed-'>,\n",
       " <Selector xpath='//a[@class=\"tag\"]' data='<a class=\"tag\" href=\"/tag/humor/page/1/\"'>,\n",
       " <Selector xpath='//a[@class=\"tag\"]' data='<a class=\"tag\" href=\"/tag/obvious/page/1'>,\n",
       " <Selector xpath='//a[@class=\"tag\"]' data='<a class=\"tag\" href=\"/tag/simile/page/1/'>,\n",
       " <Selector xpath='//a[@class=\"tag\"]' data='<a class=\"tag\" style=\"font-size: 28px\" h'>,\n",
       " <Selector xpath='//a[@class=\"tag\"]' data='<a class=\"tag\" style=\"font-size: 26px\" h'>,\n",
       " <Selector xpath='//a[@class=\"tag\"]' data='<a class=\"tag\" style=\"font-size: 26px\" h'>,\n",
       " <Selector xpath='//a[@class=\"tag\"]' data='<a class=\"tag\" style=\"font-size: 24px\" h'>,\n",
       " <Selector xpath='//a[@class=\"tag\"]' data='<a class=\"tag\" style=\"font-size: 22px\" h'>,\n",
       " <Selector xpath='//a[@class=\"tag\"]' data='<a class=\"tag\" style=\"font-size: 14px\" h'>,\n",
       " <Selector xpath='//a[@class=\"tag\"]' data='<a class=\"tag\" style=\"font-size: 10px\" h'>,\n",
       " <Selector xpath='//a[@class=\"tag\"]' data='<a class=\"tag\" style=\"font-size: 8px\" hr'>,\n",
       " <Selector xpath='//a[@class=\"tag\"]' data='<a class=\"tag\" style=\"font-size: 8px\" hr'>,\n",
       " <Selector xpath='//a[@class=\"tag\"]' data='<a class=\"tag\" style=\"font-size: 6px\" hr'>]"
      ]
     },
     "execution_count": 8,
     "metadata": {},
     "output_type": "execute_result"
    }
   ],
   "source": [
    "response.xpath('//a[@class=\"tag\"]')"
   ]
  },
  {
   "cell_type": "code",
   "execution_count": 9,
   "metadata": {
    "collapsed": true
   },
   "outputs": [
    {
     "data": {
      "text/plain": [
       "['change',\n",
       " 'deep-thoughts',\n",
       " 'thinking',\n",
       " 'world',\n",
       " 'abilities',\n",
       " 'choices',\n",
       " 'inspirational',\n",
       " 'life',\n",
       " 'live',\n",
       " 'miracle',\n",
       " 'miracles',\n",
       " 'aliteracy',\n",
       " 'books',\n",
       " 'classic',\n",
       " 'humor',\n",
       " 'be-yourself',\n",
       " 'inspirational',\n",
       " 'adulthood',\n",
       " 'success',\n",
       " 'value',\n",
       " 'life',\n",
       " 'love',\n",
       " 'edison',\n",
       " 'failure',\n",
       " 'inspirational',\n",
       " 'paraphrased',\n",
       " 'misattributed-eleanor-roosevelt',\n",
       " 'humor',\n",
       " 'obvious',\n",
       " 'simile',\n",
       " 'love',\n",
       " 'inspirational',\n",
       " 'life',\n",
       " 'humor',\n",
       " 'books',\n",
       " 'reading',\n",
       " 'friendship',\n",
       " 'friends',\n",
       " 'truth',\n",
       " 'simile']"
      ]
     },
     "execution_count": 9,
     "metadata": {},
     "output_type": "execute_result"
    }
   ],
   "source": [
    "response.xpath('//a[@class=\"tag\"]/text()').extract()"
   ]
  },
  {
   "cell_type": "code",
   "execution_count": 10,
   "metadata": {
    "collapsed": true
   },
   "outputs": [
    {
     "data": {
      "text/plain": [
       "['“The world as we have created it is a process of our thinking. It cannot be changed without changing our thinking.”',\n",
       " '“It is our choices, Harry, that show what we truly are, far more than our abilities.”',\n",
       " '“There are only two ways to live your life. One is as though nothing is a miracle. The other is as though everything is a miracle.”',\n",
       " '“The person, be it gentleman or lady, who has not pleasure in a good novel, must be intolerably stupid.”',\n",
       " \"“Imperfection is beauty, madness is genius and it's better to be absolutely ridiculous than absolutely boring.”\",\n",
       " '“Try not to become a man of success. Rather become a man of value.”',\n",
       " '“It is better to be hated for what you are than to be loved for what you are not.”',\n",
       " \"“I have not failed. I've just found 10,000 ways that won't work.”\",\n",
       " \"“A woman is like a tea bag; you never know how strong it is until it's in hot water.”\",\n",
       " '“A day without sunshine is like, you know, night.”']"
      ]
     },
     "execution_count": 10,
     "metadata": {},
     "output_type": "execute_result"
    }
   ],
   "source": [
    "response.xpath('//span[@class=\"text\"]/text()').extract()"
   ]
  },
  {
   "cell_type": "code",
   "execution_count": 11,
   "metadata": {
    "collapsed": true
   },
   "outputs": [
    {
     "data": {
      "text/plain": [
       "['Albert Einstein',\n",
       " 'J.K. Rowling',\n",
       " 'Albert Einstein',\n",
       " 'Jane Austen',\n",
       " 'Marilyn Monroe',\n",
       " 'Albert Einstein',\n",
       " 'André Gide',\n",
       " 'Thomas A. Edison',\n",
       " 'Eleanor Roosevelt',\n",
       " 'Steve Martin']"
      ]
     },
     "execution_count": 11,
     "metadata": {},
     "output_type": "execute_result"
    }
   ],
   "source": [
    "response.xpath('//small[@class=\"author\"]/text()').extract()"
   ]
  },
  {
   "cell_type": "code",
   "execution_count": 12,
   "metadata": {},
   "outputs": [],
   "source": [
    "def author_scraper(url):\n",
    "    response = requests.get(url)\n",
    "    page = TextResponse(url=response.url,body = response.text,encoding='utf-8')\n",
    "    authors = page.xpath('//small[@class=\"author\"]/text()').extract()\n",
    "    return authors"
   ]
  },
  {
   "cell_type": "code",
   "execution_count": 13,
   "metadata": {
    "collapsed": true
   },
   "outputs": [
    {
     "data": {
      "text/plain": [
       "['Albert Einstein',\n",
       " 'J.K. Rowling',\n",
       " 'Albert Einstein',\n",
       " 'Jane Austen',\n",
       " 'Marilyn Monroe',\n",
       " 'Albert Einstein',\n",
       " 'André Gide',\n",
       " 'Thomas A. Edison',\n",
       " 'Eleanor Roosevelt',\n",
       " 'Steve Martin']"
      ]
     },
     "execution_count": 13,
     "metadata": {},
     "output_type": "execute_result"
    }
   ],
   "source": [
    "author_scraper('http://quotes.toscrape.com/page/1/')"
   ]
  },
  {
   "cell_type": "code",
   "execution_count": 14,
   "metadata": {},
   "outputs": [],
   "source": [
    "my_authors = author_scraper('http://quotes.toscrape.com/')"
   ]
  },
  {
   "cell_type": "code",
   "execution_count": 15,
   "metadata": {},
   "outputs": [
    {
     "name": "stdout",
     "output_type": "stream",
     "text": [
      "['Albert Einstein', 'J.K. Rowling', 'Albert Einstein', 'Jane Austen', 'Marilyn Monroe', 'Albert Einstein', 'André Gide', 'Thomas A. Edison', 'Eleanor Roosevelt', 'Steve Martin']\n"
     ]
    }
   ],
   "source": [
    "print(my_authors)"
   ]
  },
  {
   "cell_type": "code",
   "execution_count": 16,
   "metadata": {},
   "outputs": [],
   "source": [
    "all_urls = [\"http://quotes.toscrape.com/page/{}/\".format(i) for  i in range (1,11)]"
   ]
  },
  {
   "cell_type": "code",
   "execution_count": 17,
   "metadata": {},
   "outputs": [
    {
     "name": "stdout",
     "output_type": "stream",
     "text": [
      "['http://quotes.toscrape.com/page/1/', 'http://quotes.toscrape.com/page/2/', 'http://quotes.toscrape.com/page/3/', 'http://quotes.toscrape.com/page/4/', 'http://quotes.toscrape.com/page/5/', 'http://quotes.toscrape.com/page/6/', 'http://quotes.toscrape.com/page/7/', 'http://quotes.toscrape.com/page/8/', 'http://quotes.toscrape.com/page/9/', 'http://quotes.toscrape.com/page/10/']\n"
     ]
    }
   ],
   "source": [
    "print(all_urls)"
   ]
  },
  {
   "cell_type": "code",
   "execution_count": null,
   "metadata": {},
   "outputs": [],
   "source": []
  },
  {
   "cell_type": "code",
   "execution_count": 19,
   "metadata": {},
   "outputs": [],
   "source": [
    "all_authors = []\n",
    "for i in all_urls :\n",
    "    all_authors.extend(author_scraper(i))"
   ]
  },
  {
   "cell_type": "code",
   "execution_count": 20,
   "metadata": {
    "collapsed": true
   },
   "outputs": [
    {
     "name": "stdout",
     "output_type": "stream",
     "text": [
      "['Albert Einstein', 'J.K. Rowling', 'Albert Einstein', 'Jane Austen', 'Marilyn Monroe', 'Albert Einstein', 'André Gide', 'Thomas A. Edison', 'Eleanor Roosevelt', 'Steve Martin', 'Marilyn Monroe', 'J.K. Rowling', 'Albert Einstein', 'Bob Marley', 'Dr. Seuss', 'Douglas Adams', 'Elie Wiesel', 'Friedrich Nietzsche', 'Mark Twain', 'Allen Saunders', 'Pablo Neruda', 'Ralph Waldo Emerson', 'Mother Teresa', 'Garrison Keillor', 'Jim Henson', 'Dr. Seuss', 'Albert Einstein', 'J.K. Rowling', 'Albert Einstein', 'Bob Marley', 'Dr. Seuss', 'J.K. Rowling', 'Bob Marley', 'Mother Teresa', 'J.K. Rowling', 'Charles M. Schulz', 'William Nicholson', 'Albert Einstein', 'Jorge Luis Borges', 'George Eliot', 'George R.R. Martin', 'C.S. Lewis', 'Marilyn Monroe', 'Marilyn Monroe', 'Albert Einstein', 'Marilyn Monroe', 'Marilyn Monroe', 'Martin Luther King Jr.', 'J.K. Rowling', 'James Baldwin', 'Jane Austen', 'Eleanor Roosevelt', 'Marilyn Monroe', 'Albert Einstein', 'Haruki Murakami', 'Alexandre Dumas fils', 'Stephenie Meyer', 'Ernest Hemingway', 'Helen Keller', 'George Bernard Shaw', 'Charles Bukowski', 'Suzanne Collins', 'Suzanne Collins', 'C.S. Lewis', 'J.R.R. Tolkien', 'J.K. Rowling', 'Ernest Hemingway', 'Ralph Waldo Emerson', 'Mark Twain', 'Dr. Seuss', 'Alfred Tennyson', 'Charles Bukowski', 'Terry Pratchett', 'Dr. Seuss', 'J.D. Salinger', 'George Carlin', 'John Lennon', 'W.C. Fields', 'Ayn Rand', 'Mark Twain', 'Albert Einstein', 'Jane Austen', 'J.K. Rowling', 'Jane Austen', 'Jane Austen', 'C.S. Lewis', 'C.S. Lewis', 'Mark Twain', 'Mark Twain', 'C.S. Lewis', 'J.K. Rowling', 'Jimi Hendrix', 'J.M. Barrie', 'E.E. Cummings', 'Khaled Hosseini', 'Harper Lee', \"Madeleine L'Engle\", 'Mark Twain', 'Dr. Seuss', 'George R.R. Martin']\n"
     ]
    }
   ],
   "source": [
    "print(all_authors)"
   ]
  },
  {
   "cell_type": "code",
   "execution_count": 21,
   "metadata": {},
   "outputs": [],
   "source": [
    "my_authors = [ ]\n",
    "i = 1\n",
    "while True:\n",
    "    url = \"http://quotes.toscrape.com/page/{}/\".format(i)\n",
    "    current_authors = author_scraper(url)\n",
    "    if len (current_authors) == 0:\n",
    "        break\n",
    "    else :\n",
    "        my_authors.extend(current_authors)\n",
    "    i = i +1"
   ]
  },
  {
   "cell_type": "code",
   "execution_count": 22,
   "metadata": {
    "collapsed": true
   },
   "outputs": [
    {
     "name": "stdout",
     "output_type": "stream",
     "text": [
      "['Albert Einstein', 'J.K. Rowling', 'Albert Einstein', 'Jane Austen', 'Marilyn Monroe', 'Albert Einstein', 'André Gide', 'Thomas A. Edison', 'Eleanor Roosevelt', 'Steve Martin', 'Marilyn Monroe', 'J.K. Rowling', 'Albert Einstein', 'Bob Marley', 'Dr. Seuss', 'Douglas Adams', 'Elie Wiesel', 'Friedrich Nietzsche', 'Mark Twain', 'Allen Saunders', 'Pablo Neruda', 'Ralph Waldo Emerson', 'Mother Teresa', 'Garrison Keillor', 'Jim Henson', 'Dr. Seuss', 'Albert Einstein', 'J.K. Rowling', 'Albert Einstein', 'Bob Marley', 'Dr. Seuss', 'J.K. Rowling', 'Bob Marley', 'Mother Teresa', 'J.K. Rowling', 'Charles M. Schulz', 'William Nicholson', 'Albert Einstein', 'Jorge Luis Borges', 'George Eliot', 'George R.R. Martin', 'C.S. Lewis', 'Marilyn Monroe', 'Marilyn Monroe', 'Albert Einstein', 'Marilyn Monroe', 'Marilyn Monroe', 'Martin Luther King Jr.', 'J.K. Rowling', 'James Baldwin', 'Jane Austen', 'Eleanor Roosevelt', 'Marilyn Monroe', 'Albert Einstein', 'Haruki Murakami', 'Alexandre Dumas fils', 'Stephenie Meyer', 'Ernest Hemingway', 'Helen Keller', 'George Bernard Shaw', 'Charles Bukowski', 'Suzanne Collins', 'Suzanne Collins', 'C.S. Lewis', 'J.R.R. Tolkien', 'J.K. Rowling', 'Ernest Hemingway', 'Ralph Waldo Emerson', 'Mark Twain', 'Dr. Seuss', 'Alfred Tennyson', 'Charles Bukowski', 'Terry Pratchett', 'Dr. Seuss', 'J.D. Salinger', 'George Carlin', 'John Lennon', 'W.C. Fields', 'Ayn Rand', 'Mark Twain', 'Albert Einstein', 'Jane Austen', 'J.K. Rowling', 'Jane Austen', 'Jane Austen', 'C.S. Lewis', 'C.S. Lewis', 'Mark Twain', 'Mark Twain', 'C.S. Lewis', 'J.K. Rowling', 'Jimi Hendrix', 'J.M. Barrie', 'E.E. Cummings', 'Khaled Hosseini', 'Harper Lee', \"Madeleine L'Engle\", 'Mark Twain', 'Dr. Seuss', 'George R.R. Martin']\n"
     ]
    }
   ],
   "source": [
    "print(my_authors)"
   ]
  },
  {
   "cell_type": "code",
   "execution_count": null,
   "metadata": {},
   "outputs": [],
   "source": [
    "response.css('div a')"
   ]
  }
 ],
 "metadata": {
  "kernelspec": {
   "display_name": "Python 3",
   "language": "python",
   "name": "python3"
  },
  "language_info": {
   "codemirror_mode": {
    "name": "ipython",
    "version": 3
   },
   "file_extension": ".py",
   "mimetype": "text/x-python",
   "name": "python",
   "nbconvert_exporter": "python",
   "pygments_lexer": "ipython3",
   "version": "3.7.3"
  }
 },
 "nbformat": 4,
 "nbformat_minor": 2
}
